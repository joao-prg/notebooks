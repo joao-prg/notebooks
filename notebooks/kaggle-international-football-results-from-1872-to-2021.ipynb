{
 "cells": [
  {
   "cell_type": "markdown",
   "id": "7b0bea44-1240-42ad-b3cb-c82e260a9ff7",
   "metadata": {},
   "source": [
    "<span style=\"font-size:2em;\">**International football results from 1872 to 2021**</span>\n",
    "\n",
    "This dataset has more than 42000 results of men's international football matches from 1972 to 2021. \n",
    "It includes different competitions like FIFA World Cup and friendly matches and is divided into two files: **results** and **shootouts**. \n",
    "\n",
    "The **results** file is composed of the following variables:\n",
    "- **date** - date of the match.\n",
    "- **home_team** - the name of the home team.\n",
    "- **away_team** - the name of the away team.\n",
    "- **home_score** - full-time home team score including extra time, not including penalty-shootouts.\n",
    "- **away_score** - full-time away team score including extra time, not including penalty-shootouts.\n",
    "- **tournament** - the name of the tournament.\n",
    "- **city** - the name of the city/town/administrative unit where the match was played.\n",
    "- **country** - the name of the country where the match was played.\n",
    "- **neutral** - TRUE/FALSE column indicating whether the match was played at a neutral venue.\n",
    "\n",
    "The **shootouts** csv has 4 columns:\n",
    "- **date** - date of the match.\n",
    "- **home_team** - the name of the home team.\n",
    "- **away_team** - the name of the away team.\n",
    "- **winner** - winner of the penalty-shootout."
   ]
  },
  {
   "cell_type": "markdown",
   "id": "bc59630d-3845-4ab6-872d-6d4cdeba977e",
   "metadata": {},
   "source": [
    "# Imports"
   ]
  },
  {
   "cell_type": "code",
   "execution_count": 1,
   "id": "e5b045c1-a39a-4ae0-82d0-81a4e8fd79f9",
   "metadata": {
    "execution": {
     "iopub.execute_input": "2022-01-16T21:11:03.945109Z",
     "iopub.status.busy": "2022-01-16T21:11:03.944739Z",
     "iopub.status.idle": "2022-01-16T21:11:05.203074Z",
     "shell.execute_reply": "2022-01-16T21:11:05.202085Z",
     "shell.execute_reply.started": "2022-01-16T21:11:03.945029Z"
    },
    "tags": []
   },
   "outputs": [],
   "source": [
    "import pandas as pd\n",
    "import seaborn as sns\n",
    "import matplotlib.pyplot as plt\n",
    "import numpy as np\n",
    "import warnings\n",
    "warnings.filterwarnings('ignore')\n",
    "\n",
    "sns.set_style(\"darkgrid\")"
   ]
  },
  {
   "cell_type": "markdown",
   "id": "697fd12f-653f-41ad-8277-00dc08c90fb2",
   "metadata": {},
   "source": [
    "# Descriptive Statistics"
   ]
  },
  {
   "cell_type": "markdown",
   "id": "8bce7619-2422-4dcb-a6d7-2ca6610d1e0e",
   "metadata": {
    "execution": {
     "iopub.execute_input": "2022-01-15T12:56:11.714729Z",
     "iopub.status.busy": "2022-01-15T12:56:11.714413Z",
     "iopub.status.idle": "2022-01-15T12:56:11.719552Z",
     "shell.execute_reply": "2022-01-15T12:56:11.718521Z",
     "shell.execute_reply.started": "2022-01-15T12:56:11.714703Z"
    }
   },
   "source": [
    "Let's load the dataset and look at the descriptive statistics."
   ]
  },
  {
   "cell_type": "code",
   "execution_count": 2,
   "id": "13a33a0a-f660-4c83-ab20-978d7067c5ac",
   "metadata": {
    "execution": {
     "iopub.execute_input": "2022-01-16T21:11:06.704465Z",
     "iopub.status.busy": "2022-01-16T21:11:06.704139Z",
     "iopub.status.idle": "2022-01-16T21:11:06.776209Z",
     "shell.execute_reply": "2022-01-16T21:11:06.775365Z",
     "shell.execute_reply.started": "2022-01-16T21:11:06.704433Z"
    },
    "tags": []
   },
   "outputs": [],
   "source": [
    "football_df = pd.read_csv('../data/raw/results.csv')"
   ]
  },
  {
   "cell_type": "code",
   "execution_count": 3,
   "id": "515790be-d16e-47e0-9b05-5a73d2b5475d",
   "metadata": {
    "execution": {
     "iopub.execute_input": "2022-01-16T21:11:07.510925Z",
     "iopub.status.busy": "2022-01-16T21:11:07.510449Z",
     "iopub.status.idle": "2022-01-16T21:11:07.528366Z",
     "shell.execute_reply": "2022-01-16T21:11:07.527677Z",
     "shell.execute_reply.started": "2022-01-16T21:11:07.510900Z"
    },
    "tags": []
   },
   "outputs": [
    {
     "data": {
      "text/html": [
       "<div>\n",
       "<style scoped>\n",
       "    .dataframe tbody tr th:only-of-type {\n",
       "        vertical-align: middle;\n",
       "    }\n",
       "\n",
       "    .dataframe tbody tr th {\n",
       "        vertical-align: top;\n",
       "    }\n",
       "\n",
       "    .dataframe thead th {\n",
       "        text-align: right;\n",
       "    }\n",
       "</style>\n",
       "<table border=\"1\" class=\"dataframe\">\n",
       "  <thead>\n",
       "    <tr style=\"text-align: right;\">\n",
       "      <th></th>\n",
       "      <th>date</th>\n",
       "      <th>home_team</th>\n",
       "      <th>away_team</th>\n",
       "      <th>home_score</th>\n",
       "      <th>away_score</th>\n",
       "      <th>tournament</th>\n",
       "      <th>city</th>\n",
       "      <th>country</th>\n",
       "      <th>neutral</th>\n",
       "    </tr>\n",
       "  </thead>\n",
       "  <tbody>\n",
       "    <tr>\n",
       "      <th>0</th>\n",
       "      <td>1872-11-30</td>\n",
       "      <td>Scotland</td>\n",
       "      <td>England</td>\n",
       "      <td>0.0</td>\n",
       "      <td>0.0</td>\n",
       "      <td>Friendly</td>\n",
       "      <td>Glasgow</td>\n",
       "      <td>Scotland</td>\n",
       "      <td>False</td>\n",
       "    </tr>\n",
       "    <tr>\n",
       "      <th>1</th>\n",
       "      <td>1873-03-08</td>\n",
       "      <td>England</td>\n",
       "      <td>Scotland</td>\n",
       "      <td>4.0</td>\n",
       "      <td>2.0</td>\n",
       "      <td>Friendly</td>\n",
       "      <td>London</td>\n",
       "      <td>England</td>\n",
       "      <td>False</td>\n",
       "    </tr>\n",
       "    <tr>\n",
       "      <th>2</th>\n",
       "      <td>1874-03-07</td>\n",
       "      <td>Scotland</td>\n",
       "      <td>England</td>\n",
       "      <td>2.0</td>\n",
       "      <td>1.0</td>\n",
       "      <td>Friendly</td>\n",
       "      <td>Glasgow</td>\n",
       "      <td>Scotland</td>\n",
       "      <td>False</td>\n",
       "    </tr>\n",
       "    <tr>\n",
       "      <th>3</th>\n",
       "      <td>1875-03-06</td>\n",
       "      <td>England</td>\n",
       "      <td>Scotland</td>\n",
       "      <td>2.0</td>\n",
       "      <td>2.0</td>\n",
       "      <td>Friendly</td>\n",
       "      <td>London</td>\n",
       "      <td>England</td>\n",
       "      <td>False</td>\n",
       "    </tr>\n",
       "    <tr>\n",
       "      <th>4</th>\n",
       "      <td>1876-03-04</td>\n",
       "      <td>Scotland</td>\n",
       "      <td>England</td>\n",
       "      <td>3.0</td>\n",
       "      <td>0.0</td>\n",
       "      <td>Friendly</td>\n",
       "      <td>Glasgow</td>\n",
       "      <td>Scotland</td>\n",
       "      <td>False</td>\n",
       "    </tr>\n",
       "  </tbody>\n",
       "</table>\n",
       "</div>"
      ],
      "text/plain": [
       "         date home_team away_team  home_score  away_score tournament     city  \\\n",
       "0  1872-11-30  Scotland   England         0.0         0.0   Friendly  Glasgow   \n",
       "1  1873-03-08   England  Scotland         4.0         2.0   Friendly   London   \n",
       "2  1874-03-07  Scotland   England         2.0         1.0   Friendly  Glasgow   \n",
       "3  1875-03-06   England  Scotland         2.0         2.0   Friendly   London   \n",
       "4  1876-03-04  Scotland   England         3.0         0.0   Friendly  Glasgow   \n",
       "\n",
       "    country neutral  \n",
       "0  Scotland   False  \n",
       "1   England   False  \n",
       "2  Scotland   False  \n",
       "3   England   False  \n",
       "4  Scotland   False  "
      ]
     },
     "execution_count": 3,
     "metadata": {},
     "output_type": "execute_result"
    }
   ],
   "source": [
    "football_df.head()"
   ]
  },
  {
   "cell_type": "markdown",
   "id": "c4ce7d8a-42cc-4532-99e5-55bee02445c7",
   "metadata": {},
   "source": [
    "The first 5 international football matches were between Scotland and England."
   ]
  },
  {
   "cell_type": "code",
   "execution_count": 4,
   "id": "ccebf0b7-6138-43a4-8961-0eb146dde182",
   "metadata": {
    "execution": {
     "iopub.execute_input": "2022-01-16T21:11:09.880710Z",
     "iopub.status.busy": "2022-01-16T21:11:09.880381Z",
     "iopub.status.idle": "2022-01-16T21:11:09.903514Z",
     "shell.execute_reply": "2022-01-16T21:11:09.902684Z",
     "shell.execute_reply.started": "2022-01-16T21:11:09.880679Z"
    }
   },
   "outputs": [
    {
     "name": "stdout",
     "output_type": "stream",
     "text": [
      "<class 'pandas.core.frame.DataFrame'>\n",
      "RangeIndex: 43086 entries, 0 to 43085\n",
      "Data columns (total 9 columns):\n",
      " #   Column      Non-Null Count  Dtype  \n",
      "---  ------      --------------  -----  \n",
      " 0   date        43086 non-null  object \n",
      " 1   home_team   43084 non-null  object \n",
      " 2   away_team   43084 non-null  object \n",
      " 3   home_score  43081 non-null  float64\n",
      " 4   away_score  43081 non-null  float64\n",
      " 5   tournament  43086 non-null  object \n",
      " 6   city        43086 non-null  object \n",
      " 7   country     43086 non-null  object \n",
      " 8   neutral     43084 non-null  object \n",
      "dtypes: float64(2), object(7)\n",
      "memory usage: 3.0+ MB\n"
     ]
    }
   ],
   "source": [
    "football_df.info()"
   ]
  },
  {
   "cell_type": "code",
   "execution_count": 5,
   "id": "b4620b53-1bad-4a5b-a26e-a3d1e90e2a83",
   "metadata": {
    "execution": {
     "iopub.execute_input": "2022-01-16T21:11:10.410122Z",
     "iopub.status.busy": "2022-01-16T21:11:10.409822Z",
     "iopub.status.idle": "2022-01-16T21:11:10.434271Z",
     "shell.execute_reply": "2022-01-16T21:11:10.433545Z",
     "shell.execute_reply.started": "2022-01-16T21:11:10.410094Z"
    },
    "tags": []
   },
   "outputs": [
    {
     "data": {
      "text/html": [
       "<div>\n",
       "<style scoped>\n",
       "    .dataframe tbody tr th:only-of-type {\n",
       "        vertical-align: middle;\n",
       "    }\n",
       "\n",
       "    .dataframe tbody tr th {\n",
       "        vertical-align: top;\n",
       "    }\n",
       "\n",
       "    .dataframe thead th {\n",
       "        text-align: right;\n",
       "    }\n",
       "</style>\n",
       "<table border=\"1\" class=\"dataframe\">\n",
       "  <thead>\n",
       "    <tr style=\"text-align: right;\">\n",
       "      <th></th>\n",
       "      <th>count</th>\n",
       "      <th>mean</th>\n",
       "      <th>std</th>\n",
       "      <th>min</th>\n",
       "      <th>25%</th>\n",
       "      <th>50%</th>\n",
       "      <th>75%</th>\n",
       "      <th>max</th>\n",
       "    </tr>\n",
       "  </thead>\n",
       "  <tbody>\n",
       "    <tr>\n",
       "      <th>home_score</th>\n",
       "      <td>43081.0</td>\n",
       "      <td>1.743228</td>\n",
       "      <td>1.753982</td>\n",
       "      <td>0.0</td>\n",
       "      <td>1.0</td>\n",
       "      <td>1.0</td>\n",
       "      <td>2.0</td>\n",
       "      <td>31.0</td>\n",
       "    </tr>\n",
       "    <tr>\n",
       "      <th>away_score</th>\n",
       "      <td>43081.0</td>\n",
       "      <td>1.183608</td>\n",
       "      <td>1.400620</td>\n",
       "      <td>0.0</td>\n",
       "      <td>0.0</td>\n",
       "      <td>1.0</td>\n",
       "      <td>2.0</td>\n",
       "      <td>21.0</td>\n",
       "    </tr>\n",
       "  </tbody>\n",
       "</table>\n",
       "</div>"
      ],
      "text/plain": [
       "              count      mean       std  min  25%  50%  75%   max\n",
       "home_score  43081.0  1.743228  1.753982  0.0  1.0  1.0  2.0  31.0\n",
       "away_score  43081.0  1.183608  1.400620  0.0  0.0  1.0  2.0  21.0"
      ]
     },
     "execution_count": 5,
     "metadata": {},
     "output_type": "execute_result"
    }
   ],
   "source": [
    "football_df.describe().T"
   ]
  },
  {
   "cell_type": "markdown",
   "id": "76f8725b-694d-4efa-9271-9cd7b6918e92",
   "metadata": {},
   "source": [
    "The team that plays at home scores more goals on average. \n",
    "\n",
    "There was one game where the home team scored 31 goals and one where the away team scored 21. Before proceeding, let's check which games are we talking about."
   ]
  },
  {
   "cell_type": "code",
   "execution_count": 6,
   "id": "2d20d77a-d195-4679-bbd2-037e54df41a6",
   "metadata": {
    "execution": {
     "iopub.execute_input": "2022-01-16T21:11:11.613207Z",
     "iopub.status.busy": "2022-01-16T21:11:11.612714Z",
     "iopub.status.idle": "2022-01-16T21:11:11.626670Z",
     "shell.execute_reply": "2022-01-16T21:11:11.626062Z",
     "shell.execute_reply.started": "2022-01-16T21:11:11.613182Z"
    },
    "tags": []
   },
   "outputs": [
    {
     "data": {
      "text/html": [
       "<div>\n",
       "<style scoped>\n",
       "    .dataframe tbody tr th:only-of-type {\n",
       "        vertical-align: middle;\n",
       "    }\n",
       "\n",
       "    .dataframe tbody tr th {\n",
       "        vertical-align: top;\n",
       "    }\n",
       "\n",
       "    .dataframe thead th {\n",
       "        text-align: right;\n",
       "    }\n",
       "</style>\n",
       "<table border=\"1\" class=\"dataframe\">\n",
       "  <thead>\n",
       "    <tr style=\"text-align: right;\">\n",
       "      <th></th>\n",
       "      <th>date</th>\n",
       "      <th>home_team</th>\n",
       "      <th>away_team</th>\n",
       "      <th>home_score</th>\n",
       "      <th>away_score</th>\n",
       "      <th>tournament</th>\n",
       "      <th>city</th>\n",
       "      <th>country</th>\n",
       "      <th>neutral</th>\n",
       "    </tr>\n",
       "  </thead>\n",
       "  <tbody>\n",
       "    <tr>\n",
       "      <th>23917</th>\n",
       "      <td>2001-04-11</td>\n",
       "      <td>Australia</td>\n",
       "      <td>American Samoa</td>\n",
       "      <td>31.0</td>\n",
       "      <td>0.0</td>\n",
       "      <td>FIFA World Cup qualification</td>\n",
       "      <td>Coffs Harbour</td>\n",
       "      <td>Australia</td>\n",
       "      <td>False</td>\n",
       "    </tr>\n",
       "    <tr>\n",
       "      <th>27494</th>\n",
       "      <td>2005-03-11</td>\n",
       "      <td>Guam</td>\n",
       "      <td>North Korea</td>\n",
       "      <td>0.0</td>\n",
       "      <td>21.0</td>\n",
       "      <td>EAFF Championship</td>\n",
       "      <td>Taipei</td>\n",
       "      <td>Taiwan</td>\n",
       "      <td>True</td>\n",
       "    </tr>\n",
       "  </tbody>\n",
       "</table>\n",
       "</div>"
      ],
      "text/plain": [
       "             date  home_team       away_team  home_score  away_score  \\\n",
       "23917  2001-04-11  Australia  American Samoa        31.0         0.0   \n",
       "27494  2005-03-11       Guam     North Korea         0.0        21.0   \n",
       "\n",
       "                         tournament           city    country neutral  \n",
       "23917  FIFA World Cup qualification  Coffs Harbour  Australia   False  \n",
       "27494             EAFF Championship         Taipei     Taiwan    True  "
      ]
     },
     "execution_count": 6,
     "metadata": {},
     "output_type": "execute_result"
    }
   ],
   "source": [
    "football_df[(football_df[\"home_score\"] == 31) | (football_df[\"away_score\"] == 21)]"
   ]
  },
  {
   "cell_type": "markdown",
   "id": "b8ac59ac-0e32-41e3-abbb-dc03adabf62e",
   "metadata": {},
   "source": [
    "I thought these games would be way more in the past!\n",
    "\n",
    "**Australia vs American Samoa** can be considered a David vs Golias fight. Australia have won 4 OFC Nations cups and 1 AFC Asian cup while American Samoa lost 45 of a total of 51 matches in his entire history.\n",
    "\n",
    "I haven't heard of the **EAFF Championship** until now, it is a competition in East Asia for nations like China, South Korea and Japan. The current champion is South Korea, coached by Portuguese Paulo Bento :)\n",
    "\n",
    "Missing values might affect the analysis, so we are going to see if there are any."
   ]
  },
  {
   "cell_type": "code",
   "execution_count": 7,
   "id": "f86d0966-e210-4719-af47-79059dcdc423",
   "metadata": {
    "execution": {
     "iopub.execute_input": "2022-01-16T21:11:12.743953Z",
     "iopub.status.busy": "2022-01-16T21:11:12.743594Z",
     "iopub.status.idle": "2022-01-16T21:11:12.762304Z",
     "shell.execute_reply": "2022-01-16T21:11:12.761647Z",
     "shell.execute_reply.started": "2022-01-16T21:11:12.743910Z"
    }
   },
   "outputs": [
    {
     "data": {
      "text/plain": [
       "date          0\n",
       "home_team     2\n",
       "away_team     2\n",
       "home_score    5\n",
       "away_score    5\n",
       "tournament    0\n",
       "city          0\n",
       "country       0\n",
       "neutral       2\n",
       "dtype: int64"
      ]
     },
     "execution_count": 7,
     "metadata": {},
     "output_type": "execute_result"
    }
   ],
   "source": [
    "football_df.isnull().sum()"
   ]
  },
  {
   "cell_type": "markdown",
   "id": "63ce8e36-952b-443e-94fd-9fb63771b62c",
   "metadata": {},
   "source": [
    "There are missing values. Since they are few, let's just ignore them by deleting these rows."
   ]
  },
  {
   "cell_type": "code",
   "execution_count": 8,
   "id": "5f92e58d-1c96-445b-a8a5-a06ef7d3ffd1",
   "metadata": {
    "execution": {
     "iopub.execute_input": "2022-01-16T21:11:13.352470Z",
     "iopub.status.busy": "2022-01-16T21:11:13.352159Z",
     "iopub.status.idle": "2022-01-16T21:11:13.375690Z",
     "shell.execute_reply": "2022-01-16T21:11:13.374990Z",
     "shell.execute_reply.started": "2022-01-16T21:11:13.352444Z"
    },
    "tags": []
   },
   "outputs": [],
   "source": [
    "football_df.drop(football_df[football_df.isna().any(axis=1)].index, inplace=True)"
   ]
  },
  {
   "cell_type": "markdown",
   "id": "dc83e447-ebd8-4c42-9e77-21757e4834e5",
   "metadata": {},
   "source": [
    "# Data Processing"
   ]
  },
  {
   "cell_type": "markdown",
   "id": "872654a8-eb52-4543-9e93-2aee6eef7a81",
   "metadata": {},
   "source": [
    "First, we are renaming the columns and their values for plotting purposes."
   ]
  },
  {
   "cell_type": "code",
   "execution_count": 9,
   "id": "898b1983-46c4-4be0-85e1-b4d6814770ea",
   "metadata": {
    "execution": {
     "iopub.execute_input": "2022-01-16T21:11:14.680146Z",
     "iopub.status.busy": "2022-01-16T21:11:14.679813Z",
     "iopub.status.idle": "2022-01-16T21:11:14.685102Z",
     "shell.execute_reply": "2022-01-16T21:11:14.684482Z",
     "shell.execute_reply.started": "2022-01-16T21:11:14.680116Z"
    },
    "tags": []
   },
   "outputs": [],
   "source": [
    "football_df.rename(columns={'date': 'Date', \n",
    "                   'home_team': 'Home Team', \n",
    "                   'away_team': 'Away Team',\n",
    "                   'home_score': 'Home Score',\n",
    "                   'away_score': 'Away Score',\n",
    "                   'tournament': 'Tournament',\n",
    "                   'city': 'City',\n",
    "                   'country': 'Country',\n",
    "                   'neutral': 'Neutral'}, inplace=True)"
   ]
  },
  {
   "cell_type": "markdown",
   "id": "e7051ca7-6996-428b-9f08-e5f7b8143977",
   "metadata": {},
   "source": [
    "By creating columns with the outcome of the match along with the winning and losing teams we are having quicker access to the result of the match. \n",
    "\n",
    "Plus, we are adding some date-related features like year, month and day of week."
   ]
  },
  {
   "cell_type": "code",
   "execution_count": 10,
   "id": "f8cbd0ce-f691-4e24-8c80-15b017b93696",
   "metadata": {
    "execution": {
     "iopub.execute_input": "2022-01-16T21:11:15.393533Z",
     "iopub.status.busy": "2022-01-16T21:11:15.393179Z",
     "iopub.status.idle": "2022-01-16T21:11:17.454229Z",
     "shell.execute_reply": "2022-01-16T21:11:17.453180Z",
     "shell.execute_reply.started": "2022-01-16T21:11:15.393502Z"
    },
    "tags": []
   },
   "outputs": [],
   "source": [
    "football_df['Outcome'] = football_df.apply(lambda x : 'H' if x['Home Score'] > x['Away Score'] \n",
    "                                           else ('A' if x['Home Score'] < x['Away Score'] else 'D'),\n",
    "                                           axis=1)\n",
    "football_df['Winning Team'] = football_df.apply(lambda x : x['Home Team'] if x['Home Score'] > x['Away Score'] \n",
    "                                           else (x['Away Team'] if x['Home Score'] < x['Away Score'] else np.nan),\n",
    "                                           axis=1)\n",
    "football_df['Losing Team'] = football_df.apply(lambda x : x['Away Team'] if x['Home Score'] > x['Away Score'] \n",
    "                                           else (x['Home Team'] if x['Home Score'] < x['Away Score'] else np.nan),\n",
    "                                           axis=1)\n",
    "football_df['Year'] = pd.DatetimeIndex(football_df['Date']).year\n",
    "football_df['Month'] = pd.DatetimeIndex(football_df['Date']).month\n",
    "football_df['Day of Week'] = pd.DatetimeIndex(football_df['Date']).day_name()"
   ]
  },
  {
   "cell_type": "markdown",
   "id": "d10a30ed-197d-4fe9-aeec-0cdebe1ab4b8",
   "metadata": {},
   "source": [
    "Before plotting some charts, we should check if the above features were created correctly."
   ]
  },
  {
   "cell_type": "code",
   "execution_count": 11,
   "id": "dc99aec7-fb88-4bf1-9080-731eb2bd2b7c",
   "metadata": {
    "execution": {
     "iopub.execute_input": "2022-01-16T21:11:17.455915Z",
     "iopub.status.busy": "2022-01-16T21:11:17.455576Z",
     "iopub.status.idle": "2022-01-16T21:11:17.473999Z",
     "shell.execute_reply": "2022-01-16T21:11:17.473340Z",
     "shell.execute_reply.started": "2022-01-16T21:11:17.455882Z"
    },
    "tags": []
   },
   "outputs": [
    {
     "data": {
      "text/html": [
       "<div>\n",
       "<style scoped>\n",
       "    .dataframe tbody tr th:only-of-type {\n",
       "        vertical-align: middle;\n",
       "    }\n",
       "\n",
       "    .dataframe tbody tr th {\n",
       "        vertical-align: top;\n",
       "    }\n",
       "\n",
       "    .dataframe thead th {\n",
       "        text-align: right;\n",
       "    }\n",
       "</style>\n",
       "<table border=\"1\" class=\"dataframe\">\n",
       "  <thead>\n",
       "    <tr style=\"text-align: right;\">\n",
       "      <th></th>\n",
       "      <th>Date</th>\n",
       "      <th>Home Team</th>\n",
       "      <th>Away Team</th>\n",
       "      <th>Home Score</th>\n",
       "      <th>Away Score</th>\n",
       "      <th>Tournament</th>\n",
       "      <th>City</th>\n",
       "      <th>Country</th>\n",
       "      <th>Neutral</th>\n",
       "      <th>Outcome</th>\n",
       "      <th>Winning Team</th>\n",
       "      <th>Losing Team</th>\n",
       "      <th>Year</th>\n",
       "      <th>Month</th>\n",
       "      <th>Day of Week</th>\n",
       "    </tr>\n",
       "  </thead>\n",
       "  <tbody>\n",
       "    <tr>\n",
       "      <th>0</th>\n",
       "      <td>1872-11-30</td>\n",
       "      <td>Scotland</td>\n",
       "      <td>England</td>\n",
       "      <td>0.0</td>\n",
       "      <td>0.0</td>\n",
       "      <td>Friendly</td>\n",
       "      <td>Glasgow</td>\n",
       "      <td>Scotland</td>\n",
       "      <td>False</td>\n",
       "      <td>D</td>\n",
       "      <td>NaN</td>\n",
       "      <td>NaN</td>\n",
       "      <td>1872</td>\n",
       "      <td>11</td>\n",
       "      <td>Saturday</td>\n",
       "    </tr>\n",
       "    <tr>\n",
       "      <th>1</th>\n",
       "      <td>1873-03-08</td>\n",
       "      <td>England</td>\n",
       "      <td>Scotland</td>\n",
       "      <td>4.0</td>\n",
       "      <td>2.0</td>\n",
       "      <td>Friendly</td>\n",
       "      <td>London</td>\n",
       "      <td>England</td>\n",
       "      <td>False</td>\n",
       "      <td>H</td>\n",
       "      <td>England</td>\n",
       "      <td>Scotland</td>\n",
       "      <td>1873</td>\n",
       "      <td>3</td>\n",
       "      <td>Saturday</td>\n",
       "    </tr>\n",
       "    <tr>\n",
       "      <th>2</th>\n",
       "      <td>1874-03-07</td>\n",
       "      <td>Scotland</td>\n",
       "      <td>England</td>\n",
       "      <td>2.0</td>\n",
       "      <td>1.0</td>\n",
       "      <td>Friendly</td>\n",
       "      <td>Glasgow</td>\n",
       "      <td>Scotland</td>\n",
       "      <td>False</td>\n",
       "      <td>H</td>\n",
       "      <td>Scotland</td>\n",
       "      <td>England</td>\n",
       "      <td>1874</td>\n",
       "      <td>3</td>\n",
       "      <td>Saturday</td>\n",
       "    </tr>\n",
       "    <tr>\n",
       "      <th>3</th>\n",
       "      <td>1875-03-06</td>\n",
       "      <td>England</td>\n",
       "      <td>Scotland</td>\n",
       "      <td>2.0</td>\n",
       "      <td>2.0</td>\n",
       "      <td>Friendly</td>\n",
       "      <td>London</td>\n",
       "      <td>England</td>\n",
       "      <td>False</td>\n",
       "      <td>D</td>\n",
       "      <td>NaN</td>\n",
       "      <td>NaN</td>\n",
       "      <td>1875</td>\n",
       "      <td>3</td>\n",
       "      <td>Saturday</td>\n",
       "    </tr>\n",
       "    <tr>\n",
       "      <th>4</th>\n",
       "      <td>1876-03-04</td>\n",
       "      <td>Scotland</td>\n",
       "      <td>England</td>\n",
       "      <td>3.0</td>\n",
       "      <td>0.0</td>\n",
       "      <td>Friendly</td>\n",
       "      <td>Glasgow</td>\n",
       "      <td>Scotland</td>\n",
       "      <td>False</td>\n",
       "      <td>H</td>\n",
       "      <td>Scotland</td>\n",
       "      <td>England</td>\n",
       "      <td>1876</td>\n",
       "      <td>3</td>\n",
       "      <td>Saturday</td>\n",
       "    </tr>\n",
       "    <tr>\n",
       "      <th>5</th>\n",
       "      <td>1876-03-25</td>\n",
       "      <td>Scotland</td>\n",
       "      <td>Wales</td>\n",
       "      <td>4.0</td>\n",
       "      <td>0.0</td>\n",
       "      <td>Friendly</td>\n",
       "      <td>Glasgow</td>\n",
       "      <td>Scotland</td>\n",
       "      <td>False</td>\n",
       "      <td>H</td>\n",
       "      <td>Scotland</td>\n",
       "      <td>Wales</td>\n",
       "      <td>1876</td>\n",
       "      <td>3</td>\n",
       "      <td>Saturday</td>\n",
       "    </tr>\n",
       "    <tr>\n",
       "      <th>6</th>\n",
       "      <td>1877-03-03</td>\n",
       "      <td>England</td>\n",
       "      <td>Scotland</td>\n",
       "      <td>1.0</td>\n",
       "      <td>3.0</td>\n",
       "      <td>Friendly</td>\n",
       "      <td>London</td>\n",
       "      <td>England</td>\n",
       "      <td>False</td>\n",
       "      <td>A</td>\n",
       "      <td>Scotland</td>\n",
       "      <td>England</td>\n",
       "      <td>1877</td>\n",
       "      <td>3</td>\n",
       "      <td>Saturday</td>\n",
       "    </tr>\n",
       "    <tr>\n",
       "      <th>7</th>\n",
       "      <td>1877-03-05</td>\n",
       "      <td>Wales</td>\n",
       "      <td>Scotland</td>\n",
       "      <td>0.0</td>\n",
       "      <td>2.0</td>\n",
       "      <td>Friendly</td>\n",
       "      <td>Wrexham</td>\n",
       "      <td>Wales</td>\n",
       "      <td>False</td>\n",
       "      <td>A</td>\n",
       "      <td>Scotland</td>\n",
       "      <td>Wales</td>\n",
       "      <td>1877</td>\n",
       "      <td>3</td>\n",
       "      <td>Monday</td>\n",
       "    </tr>\n",
       "    <tr>\n",
       "      <th>8</th>\n",
       "      <td>1878-03-02</td>\n",
       "      <td>Scotland</td>\n",
       "      <td>England</td>\n",
       "      <td>7.0</td>\n",
       "      <td>2.0</td>\n",
       "      <td>Friendly</td>\n",
       "      <td>Glasgow</td>\n",
       "      <td>Scotland</td>\n",
       "      <td>False</td>\n",
       "      <td>H</td>\n",
       "      <td>Scotland</td>\n",
       "      <td>England</td>\n",
       "      <td>1878</td>\n",
       "      <td>3</td>\n",
       "      <td>Saturday</td>\n",
       "    </tr>\n",
       "    <tr>\n",
       "      <th>9</th>\n",
       "      <td>1878-03-23</td>\n",
       "      <td>Scotland</td>\n",
       "      <td>Wales</td>\n",
       "      <td>9.0</td>\n",
       "      <td>0.0</td>\n",
       "      <td>Friendly</td>\n",
       "      <td>Glasgow</td>\n",
       "      <td>Scotland</td>\n",
       "      <td>False</td>\n",
       "      <td>H</td>\n",
       "      <td>Scotland</td>\n",
       "      <td>Wales</td>\n",
       "      <td>1878</td>\n",
       "      <td>3</td>\n",
       "      <td>Saturday</td>\n",
       "    </tr>\n",
       "  </tbody>\n",
       "</table>\n",
       "</div>"
      ],
      "text/plain": [
       "         Date Home Team Away Team  Home Score  Away Score Tournament     City  \\\n",
       "0  1872-11-30  Scotland   England         0.0         0.0   Friendly  Glasgow   \n",
       "1  1873-03-08   England  Scotland         4.0         2.0   Friendly   London   \n",
       "2  1874-03-07  Scotland   England         2.0         1.0   Friendly  Glasgow   \n",
       "3  1875-03-06   England  Scotland         2.0         2.0   Friendly   London   \n",
       "4  1876-03-04  Scotland   England         3.0         0.0   Friendly  Glasgow   \n",
       "5  1876-03-25  Scotland     Wales         4.0         0.0   Friendly  Glasgow   \n",
       "6  1877-03-03   England  Scotland         1.0         3.0   Friendly   London   \n",
       "7  1877-03-05     Wales  Scotland         0.0         2.0   Friendly  Wrexham   \n",
       "8  1878-03-02  Scotland   England         7.0         2.0   Friendly  Glasgow   \n",
       "9  1878-03-23  Scotland     Wales         9.0         0.0   Friendly  Glasgow   \n",
       "\n",
       "    Country Neutral Outcome Winning Team Losing Team  Year  Month Day of Week  \n",
       "0  Scotland   False       D          NaN         NaN  1872     11    Saturday  \n",
       "1   England   False       H      England    Scotland  1873      3    Saturday  \n",
       "2  Scotland   False       H     Scotland     England  1874      3    Saturday  \n",
       "3   England   False       D          NaN         NaN  1875      3    Saturday  \n",
       "4  Scotland   False       H     Scotland     England  1876      3    Saturday  \n",
       "5  Scotland   False       H     Scotland       Wales  1876      3    Saturday  \n",
       "6   England   False       A     Scotland     England  1877      3    Saturday  \n",
       "7     Wales   False       A     Scotland       Wales  1877      3      Monday  \n",
       "8  Scotland   False       H     Scotland     England  1878      3    Saturday  \n",
       "9  Scotland   False       H     Scotland       Wales  1878      3    Saturday  "
      ]
     },
     "execution_count": 11,
     "metadata": {},
     "output_type": "execute_result"
    }
   ],
   "source": [
    "football_df.head(10)"
   ]
  },
  {
   "cell_type": "markdown",
   "id": "3f10af03-c83e-4f1c-b2be-da3b11f96f00",
   "metadata": {},
   "source": [
    "We are ready to plot!"
   ]
  },
  {
   "cell_type": "markdown",
   "id": "a72dcec5-882b-44c0-a7c5-684dd9d7fd72",
   "metadata": {},
   "source": [
    "# Data Visualization"
   ]
  },
  {
   "cell_type": "markdown",
   "id": "0cc152f6-8d1c-4815-a173-2a650dcf845f",
   "metadata": {},
   "source": [
    "Let's go through the rest of this notebook creating different charts to answer a few questions."
   ]
  },
  {
   "cell_type": "markdown",
   "id": "212148db-98f1-4ac9-ae56-a3dafee05b75",
   "metadata": {},
   "source": [
    "**Which tournaments had the most games?**\n",
    "\n",
    "To answer this, we are excluding friendly matches, qualifiers and tournaments with less than 100 matches."
   ]
  },
  {
   "cell_type": "code",
   "execution_count": 12,
   "id": "c6c68a0a-66d3-4da1-af79-0e122bddde3e",
   "metadata": {
    "execution": {
     "iopub.execute_input": "2022-01-16T21:11:21.520382Z",
     "iopub.status.busy": "2022-01-16T21:11:21.519801Z",
     "iopub.status.idle": "2022-01-16T21:11:21.531167Z",
     "shell.execute_reply": "2022-01-16T21:11:21.530538Z",
     "shell.execute_reply.started": "2022-01-16T21:11:21.520352Z"
    },
    "tags": []
   },
   "outputs": [],
   "source": [
    "tournament_counts = pd.DataFrame(football_df[\"Tournament\"].value_counts().reset_index()) \\\n",
    "    .rename(columns={'index': 'Tournament', 'Tournament': 'Count'})\n",
    "\n",
    "tournament_counts = tournament_counts[(tournament_counts[\"Tournament\"] != \"Friendly\") & \n",
    "                                      (~ tournament_counts[\"Tournament\"].str.endswith('qualification')) & \n",
    "                                      (tournament_counts[\"Count\"] >= 100)]\n",
    "tournament_counts.reset_index(inplace=True)"
   ]
  },
  {
   "cell_type": "code",
   "execution_count": 64,
   "id": "433d880b-ebc0-406a-abbe-1bde8cfc0580",
   "metadata": {
    "execution": {
     "iopub.execute_input": "2022-01-16T22:38:42.909378Z",
     "iopub.status.busy": "2022-01-16T22:38:42.908877Z",
     "iopub.status.idle": "2022-01-16T22:38:43.587634Z",
     "shell.execute_reply": "2022-01-16T22:38:43.586952Z",
     "shell.execute_reply.started": "2022-01-16T22:38:42.909351Z"
    },
    "tags": []
   },
   "outputs": [
    {
     "data": {
      "image/png": "[encoded data removed]",
      "text/plain": [
       "<Figure size 1440x720 with 1 Axes>"
      ]
     },
     "metadata": {},
     "output_type": "display_data"
    }
   ],
   "source": [
    "plt.figure(figsize=(20,10))\n",
    "ax = sns.barplot(y=tournament_counts[\"Tournament\"], x=tournament_counts[\"Count\"], orient='h')\n",
    "ax.set_title(\"Which tournaments had the most games?\", size=20)\n",
    "ax.set_xlabel(xlabel=\"Count\", size=12)\n",
    "ax.set_ylabel(ylabel=\"Tournament\", size=12)\n",
    "\n",
    "# Annotate value labels to each type\n",
    "for index, value in tournament_counts.iterrows(): \n",
    "    plt.annotate(value['Count'], xy=(value['Count'] - 20, index + 0.2), color='white')"
   ]
  },
  {
   "cell_type": "markdown",
   "id": "4cf5c8bc-edcb-4f62-ae4c-498799782e4b",
   "metadata": {},
   "source": [
    "We will consider two competitions played between teams from all continents (World Cup and Confederations Cup) and the main competitions of each continent. So, these are the tournaments in the dataset that we will take as the main ones:\n",
    "- FIFA World Cup\n",
    "- Confederations Cup\n",
    "- Copa América\n",
    "- African Cup of Nations\n",
    "- African Nations Championship\t\n",
    "- AFC Asian Cup\n",
    "- Gold Cup\n",
    "- CONCACAF Nations League\n",
    "- UEFA Euro\n",
    "- UEFA Nations League\n",
    "- Oceania Nations Cup\n",
    "\n",
    "Now we are ready to look at the top 10 of the teams that have played the most games in major tournaments.\n",
    "\n",
    "**Which national teams have played the most games in major tournaments?**"
   ]
  },
  {
   "cell_type": "code",
   "execution_count": 14,
   "id": "fe074843-8676-49ac-90fc-a079512cd9fb",
   "metadata": {
    "execution": {
     "iopub.execute_input": "2022-01-16T21:13:35.089867Z",
     "iopub.status.busy": "2022-01-16T21:13:35.089552Z",
     "iopub.status.idle": "2022-01-16T21:13:35.106375Z",
     "shell.execute_reply": "2022-01-16T21:13:35.105539Z",
     "shell.execute_reply.started": "2022-01-16T21:13:35.089838Z"
    },
    "tags": []
   },
   "outputs": [],
   "source": [
    "major_tournaments = ['FIFA World Cup', 'Confederations Cup', 'Copa América', 'African Cup of Nations', \n",
    "                     'African Nations Championship', 'AFC Asian Cup', 'Gold Cup', 'CONCACAF Nations League', \n",
    "                     'UEFA Euro', 'UEFA Nations League', 'Oceania Nations Cup']\n",
    "\n",
    "major_tournaments_df = football_df[football_df[\"Tournament\"].isin(major_tournaments)]"
   ]
  },
  {
   "cell_type": "code",
   "execution_count": 50,
   "id": "8bb85ce3-0d2e-4fb8-a77c-ab9c436bae85",
   "metadata": {
    "execution": {
     "iopub.execute_input": "2022-01-16T22:19:50.618077Z",
     "iopub.status.busy": "2022-01-16T22:19:50.617580Z",
     "iopub.status.idle": "2022-01-16T22:19:50.637009Z",
     "shell.execute_reply": "2022-01-16T22:19:50.636412Z",
     "shell.execute_reply.started": "2022-01-16T22:19:50.618051Z"
    },
    "tags": []
   },
   "outputs": [],
   "source": [
    "home_team_game_counts = major_tournaments_df[major_tournaments_df[\"Neutral\"] == False][\"Home Team\"].value_counts()\n",
    "\n",
    "neutral_team_game_counts = pd.concat([major_tournaments_df[major_tournaments_df[\"Neutral\"] == True][\"Home Team\"].value_counts(),\n",
    "           major_tournaments_df[major_tournaments_df[\"Neutral\"] == True][\"Away Team\"].value_counts()], axis=1)\n",
    "neutral_team_game_counts[\"Neutral\"] = neutral_team_game_counts[\"Home Team\"] + neutral_team_game_counts[\"Away Team\"]\n",
    "\n",
    "away_team_game_counts = major_tournaments_df[major_tournaments_df[\"Neutral\"] == False][\"Away Team\"].value_counts()\n",
    "\n",
    "game_counts = pd.concat([home_team_game_counts, neutral_team_game_counts[\"Neutral\"], away_team_game_counts], axis=1)\n",
    "game_counts[\"Total\"] = game_counts[\"Home Team\"] + game_counts[\"Neutral\"] + game_counts[\"Away Team\"]\n",
    "game_counts_top10 = game_counts.sort_values(by=\"Total\", ascending=False).head(10)"
   ]
  },
  {
   "cell_type": "code",
   "execution_count": 63,
   "id": "47bf2ba2-6587-43c6-b09a-55cac5ab52dd",
   "metadata": {
    "execution": {
     "iopub.execute_input": "2022-01-16T22:37:35.055795Z",
     "iopub.status.busy": "2022-01-16T22:37:35.055308Z",
     "iopub.status.idle": "2022-01-16T22:37:35.392526Z",
     "shell.execute_reply": "2022-01-16T22:37:35.391819Z",
     "shell.execute_reply.started": "2022-01-16T22:37:35.055769Z"
    },
    "tags": []
   },
   "outputs": [
    {
     "data": {
      "image/png": "[encoded data removed]",
      "text/plain": [
       "<Figure size 1440x720 with 1 Axes>"
      ]
     },
     "metadata": {},
     "output_type": "display_data"
    }
   ],
   "source": [
    "ax = game_counts_top10[[\"Home Team\", \"Neutral\", \"Away Team\"]].plot(kind=\"bar\", stacked=True, figsize=(20,10))\n",
    "ax.set_title(\"Which national teams have played the most games in major tournaments?\", size=20)\n",
    "ax.set_xlabel(xlabel=\"Count\", size=12)\n",
    "ax.set_ylabel(ylabel=\"National Team\", size=12)\n",
    "ax.set_xticklabels(ax.get_xticklabels(), rotation=20);\n",
    "ax.legend([\"Home\", \"Neutral\", \"Away\"], loc=\"upper right\", title=\"Condition\", fontsize=12);"
   ]
  },
  {
   "cell_type": "markdown",
   "id": "a867955f-a82f-4c32-9a1d-3f8555c32c28",
   "metadata": {},
   "source": [
    "It makes sense that teams from **South America (Brazil, Argentina, Uruguay, Chile, Paraguay, Peru and Colombia)** dominate this top 10. Copa América is the second most played tournament among the considered as major. Plus, the top 3 (Brazil, Argentina and Uruguay) add up to nine World Cups,  thirty nine Copa Américas, and five Confederations Cups!\n",
    "\n",
    "Brazil, Colombia and Peru were invited to the Gold Cup. In three editions, Brazil was runner-up twice and third once. Colombia also played three times, reaching the final once and Peru reached the semifinals the only time they played in this competition.\n",
    "\n",
    "**Mexico** is the most powerful team in the CONCACAF region. Mexico has won eleven Gold Cups and one Confederations Cup.\n",
    "\n",
    "**Germany** is the only European team that appears, which is explained by the fact that it is the most successful European team. It has won four World Cups, three Euros and one Confederations Cup. \n",
    "\n",
    "**United States** has won seven Gold Cups and one CONCACAF Nations League (there has been only one edition). The high number of home games for the United States is due to having been the hosts or co-hosts of all editions of the Gold Cup. \n",
    "\n",
    "Mexico and the United States have participated in 10 and 4 editions of the Copa América. Mexico achieved two second places and three third places, while the United States finished fourth twice. This also contributed to the high number of games played by these two nations."
   ]
  }
 ],
 "metadata": {
  "kernelspec": {
   "display_name": "venv",
   "language": "python",
   "name": "venv"
  },
  "language_info": {
   "codemirror_mode": {
    "name": "ipython",
    "version": 3
   },
   "file_extension": ".py",
   "mimetype": "text/x-python",
   "name": "python",
   "nbconvert_exporter": "python",
   "pygments_lexer": "ipython3",
   "version": "3.9.6"
  }
 },
 "nbformat": 4,
 "nbformat_minor": 5
}
