{
 "cells": [
  {
   "cell_type": "markdown",
   "id": "7b0bea44-1240-42ad-b3cb-c82e260a9ff7",
   "metadata": {},
   "source": [
    "<span style=\"font-size:2em;\">**International football results from 1872 to 2021**</span>\n",
    "\n",
    "This dataset has over 42000 results from international men's football matches from 1972 to 2021. It includes different competitions like FIFA World Cup and friendly matches and is divided into two files: **results** and **shootouts**. \n",
    "\n",
    "The **results** file is composed of the following variables:\n",
    "- **date** - date of the match.\n",
    "- **home_team** - the name of the home team.\n",
    "- **away_team** - the name of the away team.\n",
    "- **home_score** - full-time home team score including extra time, not including penalty-shootouts.\n",
    "- **away_score** - full-time away team score including extra time, not including penalty-shootouts.\n",
    "- **tournament** - the name of the tournament.\n",
    "- **city** - the name of the city/town/administrative unit where the match was played.\n",
    "- **country** - the name of the country where the match was played.\n",
    "- **neutral** - TRUE/FALSE column indicating whether the match was played at a neutral venue.\n",
    "\n",
    "The **shootouts** csv has 4 columns:\n",
    "- **date** - date of the match.\n",
    "- **home_team** - the name of the home team.\n",
    "- **away_team** - the name of the away team.\n",
    "- **winner** - winner of the penalty-shootout."
   ]
  },
  {
   "cell_type": "markdown",
   "id": "bc59630d-3845-4ab6-872d-6d4cdeba977e",
   "metadata": {},
   "source": [
    "# Imports"
   ]
  },
  {
   "cell_type": "code",
   "execution_count": 1,
   "id": "e5b045c1-a39a-4ae0-82d0-81a4e8fd79f9",
   "metadata": {
    "execution": {
     "iopub.execute_input": "2022-01-26T18:51:31.359359Z",
     "iopub.status.busy": "2022-01-26T18:51:31.358952Z",
     "iopub.status.idle": "2022-01-26T18:51:32.731690Z",
     "shell.execute_reply": "2022-01-26T18:51:32.730828Z",
     "shell.execute_reply.started": "2022-01-26T18:51:31.359274Z"
    },
    "tags": []
   },
   "outputs": [],
   "source": [
    "import pandas as pd\n",
    "import seaborn as sns\n",
    "import matplotlib.pyplot as plt\n",
    "import numpy as np\n",
    "import warnings\n",
    "warnings.filterwarnings('ignore')\n",
    "\n",
    "sns.set_style(\"darkgrid\")"
   ]
  },
  {
   "cell_type": "markdown",
   "id": "697fd12f-653f-41ad-8277-00dc08c90fb2",
   "metadata": {},
   "source": [
    "# Descriptive Statistics"
   ]
  },
  {
   "cell_type": "markdown",
   "id": "8bce7619-2422-4dcb-a6d7-2ca6610d1e0e",
   "metadata": {
    "execution": {
     "iopub.execute_input": "2022-01-15T12:56:11.714729Z",
     "iopub.status.busy": "2022-01-15T12:56:11.714413Z",
     "iopub.status.idle": "2022-01-15T12:56:11.719552Z",
     "shell.execute_reply": "2022-01-15T12:56:11.718521Z",
     "shell.execute_reply.started": "2022-01-15T12:56:11.714703Z"
    }
   },
   "source": [
    "Let's load the dataset and look at the descriptive statistics."
   ]
  },
  {
   "cell_type": "code",
   "execution_count": 7,
   "id": "13a33a0a-f660-4c83-ab20-978d7067c5ac",
   "metadata": {
    "execution": {
     "iopub.execute_input": "2022-01-26T18:59:50.131242Z",
     "iopub.status.busy": "2022-01-26T18:59:50.130964Z",
     "iopub.status.idle": "2022-01-26T18:59:50.196044Z",
     "shell.execute_reply": "2022-01-26T18:59:50.195378Z",
     "shell.execute_reply.started": "2022-01-26T18:59:50.131215Z"
    },
    "tags": []
   },
   "outputs": [],
   "source": [
    "results_df = pd.read_csv('../data/raw/results.csv')\n",
    "shootouts_df = pd.read_csv('../data/raw/shootouts.csv')"
   ]
  },
  {
   "cell_type": "code",
   "execution_count": 8,
   "id": "db659629-1e85-4df1-87dc-d7572a6ebc6b",
   "metadata": {
    "execution": {
     "iopub.execute_input": "2022-01-26T18:59:50.781795Z",
     "iopub.status.busy": "2022-01-26T18:59:50.781519Z",
     "iopub.status.idle": "2022-01-26T18:59:50.795012Z",
     "shell.execute_reply": "2022-01-26T18:59:50.794227Z",
     "shell.execute_reply.started": "2022-01-26T18:59:50.781768Z"
    },
    "tags": []
   },
   "outputs": [
    {
     "data": {
      "text/html": [
       "<div>\n",
       "<style scoped>\n",
       "    .dataframe tbody tr th:only-of-type {\n",
       "        vertical-align: middle;\n",
       "    }\n",
       "\n",
       "    .dataframe tbody tr th {\n",
       "        vertical-align: top;\n",
       "    }\n",
       "\n",
       "    .dataframe thead th {\n",
       "        text-align: right;\n",
       "    }\n",
       "</style>\n",
       "<table border=\"1\" class=\"dataframe\">\n",
       "  <thead>\n",
       "    <tr style=\"text-align: right;\">\n",
       "      <th></th>\n",
       "      <th>date</th>\n",
       "      <th>home_team</th>\n",
       "      <th>away_team</th>\n",
       "      <th>home_score</th>\n",
       "      <th>away_score</th>\n",
       "      <th>tournament</th>\n",
       "      <th>city</th>\n",
       "      <th>country</th>\n",
       "      <th>neutral</th>\n",
       "    </tr>\n",
       "  </thead>\n",
       "  <tbody>\n",
       "    <tr>\n",
       "      <th>0</th>\n",
       "      <td>1872-11-30</td>\n",
       "      <td>Scotland</td>\n",
       "      <td>England</td>\n",
       "      <td>0.0</td>\n",
       "      <td>0.0</td>\n",
       "      <td>Friendly</td>\n",
       "      <td>Glasgow</td>\n",
       "      <td>Scotland</td>\n",
       "      <td>False</td>\n",
       "    </tr>\n",
       "    <tr>\n",
       "      <th>1</th>\n",
       "      <td>1873-03-08</td>\n",
       "      <td>England</td>\n",
       "      <td>Scotland</td>\n",
       "      <td>4.0</td>\n",
       "      <td>2.0</td>\n",
       "      <td>Friendly</td>\n",
       "      <td>London</td>\n",
       "      <td>England</td>\n",
       "      <td>False</td>\n",
       "    </tr>\n",
       "    <tr>\n",
       "      <th>2</th>\n",
       "      <td>1874-03-07</td>\n",
       "      <td>Scotland</td>\n",
       "      <td>England</td>\n",
       "      <td>2.0</td>\n",
       "      <td>1.0</td>\n",
       "      <td>Friendly</td>\n",
       "      <td>Glasgow</td>\n",
       "      <td>Scotland</td>\n",
       "      <td>False</td>\n",
       "    </tr>\n",
       "    <tr>\n",
       "      <th>3</th>\n",
       "      <td>1875-03-06</td>\n",
       "      <td>England</td>\n",
       "      <td>Scotland</td>\n",
       "      <td>2.0</td>\n",
       "      <td>2.0</td>\n",
       "      <td>Friendly</td>\n",
       "      <td>London</td>\n",
       "      <td>England</td>\n",
       "      <td>False</td>\n",
       "    </tr>\n",
       "    <tr>\n",
       "      <th>4</th>\n",
       "      <td>1876-03-04</td>\n",
       "      <td>Scotland</td>\n",
       "      <td>England</td>\n",
       "      <td>3.0</td>\n",
       "      <td>0.0</td>\n",
       "      <td>Friendly</td>\n",
       "      <td>Glasgow</td>\n",
       "      <td>Scotland</td>\n",
       "      <td>False</td>\n",
       "    </tr>\n",
       "  </tbody>\n",
       "</table>\n",
       "</div>"
      ],
      "text/plain": [
       "         date home_team away_team  home_score  away_score tournament     city  \\\n",
       "0  1872-11-30  Scotland   England         0.0         0.0   Friendly  Glasgow   \n",
       "1  1873-03-08   England  Scotland         4.0         2.0   Friendly   London   \n",
       "2  1874-03-07  Scotland   England         2.0         1.0   Friendly  Glasgow   \n",
       "3  1875-03-06   England  Scotland         2.0         2.0   Friendly   London   \n",
       "4  1876-03-04  Scotland   England         3.0         0.0   Friendly  Glasgow   \n",
       "\n",
       "    country neutral  \n",
       "0  Scotland   False  \n",
       "1   England   False  \n",
       "2  Scotland   False  \n",
       "3   England   False  \n",
       "4  Scotland   False  "
      ]
     },
     "execution_count": 8,
     "metadata": {},
     "output_type": "execute_result"
    }
   ],
   "source": [
    "results_df.head()"
   ]
  },
  {
   "cell_type": "markdown",
   "id": "c4ce7d8a-42cc-4532-99e5-55bee02445c7",
   "metadata": {},
   "source": [
    "The first 5 international football matches were played between Scotland and England."
   ]
  },
  {
   "cell_type": "code",
   "execution_count": 9,
   "id": "26d59bf9-420f-43e7-a3a9-359253aeb250",
   "metadata": {
    "execution": {
     "iopub.execute_input": "2022-01-26T18:59:52.747706Z",
     "iopub.status.busy": "2022-01-26T18:59:52.747234Z",
     "iopub.status.idle": "2022-01-26T18:59:52.756543Z",
     "shell.execute_reply": "2022-01-26T18:59:52.755766Z",
     "shell.execute_reply.started": "2022-01-26T18:59:52.747680Z"
    },
    "tags": []
   },
   "outputs": [
    {
     "data": {
      "text/html": [
       "<div>\n",
       "<style scoped>\n",
       "    .dataframe tbody tr th:only-of-type {\n",
       "        vertical-align: middle;\n",
       "    }\n",
       "\n",
       "    .dataframe tbody tr th {\n",
       "        vertical-align: top;\n",
       "    }\n",
       "\n",
       "    .dataframe thead th {\n",
       "        text-align: right;\n",
       "    }\n",
       "</style>\n",
       "<table border=\"1\" class=\"dataframe\">\n",
       "  <thead>\n",
       "    <tr style=\"text-align: right;\">\n",
       "      <th></th>\n",
       "      <th>date</th>\n",
       "      <th>home_team</th>\n",
       "      <th>away_team</th>\n",
       "      <th>winner</th>\n",
       "    </tr>\n",
       "  </thead>\n",
       "  <tbody>\n",
       "    <tr>\n",
       "      <th>0</th>\n",
       "      <td>1967-08-22</td>\n",
       "      <td>India</td>\n",
       "      <td>Taiwan</td>\n",
       "      <td>Taiwan</td>\n",
       "    </tr>\n",
       "    <tr>\n",
       "      <th>1</th>\n",
       "      <td>1971-11-14</td>\n",
       "      <td>South Korea</td>\n",
       "      <td>Vietnam Republic</td>\n",
       "      <td>South Korea</td>\n",
       "    </tr>\n",
       "    <tr>\n",
       "      <th>2</th>\n",
       "      <td>1972-05-17</td>\n",
       "      <td>Thailand</td>\n",
       "      <td>South Korea</td>\n",
       "      <td>South Korea</td>\n",
       "    </tr>\n",
       "    <tr>\n",
       "      <th>3</th>\n",
       "      <td>1972-05-19</td>\n",
       "      <td>Thailand</td>\n",
       "      <td>Cambodia</td>\n",
       "      <td>Thailand</td>\n",
       "    </tr>\n",
       "    <tr>\n",
       "      <th>4</th>\n",
       "      <td>1973-07-26</td>\n",
       "      <td>Malaysia</td>\n",
       "      <td>Kuwait</td>\n",
       "      <td>Malaysia</td>\n",
       "    </tr>\n",
       "  </tbody>\n",
       "</table>\n",
       "</div>"
      ],
      "text/plain": [
       "         date    home_team         away_team       winner\n",
       "0  1967-08-22        India            Taiwan       Taiwan\n",
       "1  1971-11-14  South Korea  Vietnam Republic  South Korea\n",
       "2  1972-05-17     Thailand       South Korea  South Korea\n",
       "3  1972-05-19     Thailand          Cambodia     Thailand\n",
       "4  1973-07-26     Malaysia            Kuwait     Malaysia"
      ]
     },
     "execution_count": 9,
     "metadata": {},
     "output_type": "execute_result"
    }
   ],
   "source": [
    "shootouts_df.head()"
   ]
  },
  {
   "cell_type": "markdown",
   "id": "31d5c75e-33bc-43d9-85b6-533ab74ff127",
   "metadata": {},
   "source": [
    "The first penalty shoot-out took place in a friendly match between India and Taiwan. More info about the history of penalty shoot-outs can be seen [here](https://www.fifamuseum.com/en/blog-stories/blog/why-the-lottery-that-is-penalty-shoot-outs-were-introduced-2610606/)."
   ]
  },
  {
   "cell_type": "code",
   "execution_count": 11,
   "id": "b4620b53-1bad-4a5b-a26e-a3d1e90e2a83",
   "metadata": {
    "execution": {
     "iopub.execute_input": "2022-01-26T19:12:42.589320Z",
     "iopub.status.busy": "2022-01-26T19:12:42.588835Z",
     "iopub.status.idle": "2022-01-26T19:12:42.609942Z",
     "shell.execute_reply": "2022-01-26T19:12:42.609262Z",
     "shell.execute_reply.started": "2022-01-26T19:12:42.589295Z"
    },
    "tags": []
   },
   "outputs": [
    {
     "data": {
      "text/html": [
       "<div>\n",
       "<style scoped>\n",
       "    .dataframe tbody tr th:only-of-type {\n",
       "        vertical-align: middle;\n",
       "    }\n",
       "\n",
       "    .dataframe tbody tr th {\n",
       "        vertical-align: top;\n",
       "    }\n",
       "\n",
       "    .dataframe thead th {\n",
       "        text-align: right;\n",
       "    }\n",
       "</style>\n",
       "<table border=\"1\" class=\"dataframe\">\n",
       "  <thead>\n",
       "    <tr style=\"text-align: right;\">\n",
       "      <th></th>\n",
       "      <th>count</th>\n",
       "      <th>mean</th>\n",
       "      <th>std</th>\n",
       "      <th>min</th>\n",
       "      <th>25%</th>\n",
       "      <th>50%</th>\n",
       "      <th>75%</th>\n",
       "      <th>max</th>\n",
       "    </tr>\n",
       "  </thead>\n",
       "  <tbody>\n",
       "    <tr>\n",
       "      <th>home_score</th>\n",
       "      <td>43081.0</td>\n",
       "      <td>1.743228</td>\n",
       "      <td>1.753982</td>\n",
       "      <td>0.0</td>\n",
       "      <td>1.0</td>\n",
       "      <td>1.0</td>\n",
       "      <td>2.0</td>\n",
       "      <td>31.0</td>\n",
       "    </tr>\n",
       "    <tr>\n",
       "      <th>away_score</th>\n",
       "      <td>43081.0</td>\n",
       "      <td>1.183608</td>\n",
       "      <td>1.400620</td>\n",
       "      <td>0.0</td>\n",
       "      <td>0.0</td>\n",
       "      <td>1.0</td>\n",
       "      <td>2.0</td>\n",
       "      <td>21.0</td>\n",
       "    </tr>\n",
       "  </tbody>\n",
       "</table>\n",
       "</div>"
      ],
      "text/plain": [
       "              count      mean       std  min  25%  50%  75%   max\n",
       "home_score  43081.0  1.743228  1.753982  0.0  1.0  1.0  2.0  31.0\n",
       "away_score  43081.0  1.183608  1.400620  0.0  0.0  1.0  2.0  21.0"
      ]
     },
     "execution_count": 11,
     "metadata": {},
     "output_type": "execute_result"
    }
   ],
   "source": [
    "results_df.describe().T"
   ]
  },
  {
   "cell_type": "markdown",
   "id": "76f8725b-694d-4efa-9271-9cd7b6918e92",
   "metadata": {},
   "source": [
    "The team that plays at home scores more goals on average.\n",
    "\n",
    "There was a game where the home team scored 31 goals and another where the away team scored 21. Before we go any further, let's check which games we are talking about."
   ]
  },
  {
   "cell_type": "code",
   "execution_count": 12,
   "id": "2d20d77a-d195-4679-bbd2-037e54df41a6",
   "metadata": {
    "execution": {
     "iopub.execute_input": "2022-01-26T19:44:54.181071Z",
     "iopub.status.busy": "2022-01-26T19:44:54.180789Z",
     "iopub.status.idle": "2022-01-26T19:44:54.194487Z",
     "shell.execute_reply": "2022-01-26T19:44:54.193766Z",
     "shell.execute_reply.started": "2022-01-26T19:44:54.181047Z"
    },
    "tags": []
   },
   "outputs": [
    {
     "data": {
      "text/html": [
       "<div>\n",
       "<style scoped>\n",
       "    .dataframe tbody tr th:only-of-type {\n",
       "        vertical-align: middle;\n",
       "    }\n",
       "\n",
       "    .dataframe tbody tr th {\n",
       "        vertical-align: top;\n",
       "    }\n",
       "\n",
       "    .dataframe thead th {\n",
       "        text-align: right;\n",
       "    }\n",
       "</style>\n",
       "<table border=\"1\" class=\"dataframe\">\n",
       "  <thead>\n",
       "    <tr style=\"text-align: right;\">\n",
       "      <th></th>\n",
       "      <th>date</th>\n",
       "      <th>home_team</th>\n",
       "      <th>away_team</th>\n",
       "      <th>home_score</th>\n",
       "      <th>away_score</th>\n",
       "      <th>tournament</th>\n",
       "      <th>city</th>\n",
       "      <th>country</th>\n",
       "      <th>neutral</th>\n",
       "    </tr>\n",
       "  </thead>\n",
       "  <tbody>\n",
       "    <tr>\n",
       "      <th>23917</th>\n",
       "      <td>2001-04-11</td>\n",
       "      <td>Australia</td>\n",
       "      <td>American Samoa</td>\n",
       "      <td>31.0</td>\n",
       "      <td>0.0</td>\n",
       "      <td>FIFA World Cup qualification</td>\n",
       "      <td>Coffs Harbour</td>\n",
       "      <td>Australia</td>\n",
       "      <td>False</td>\n",
       "    </tr>\n",
       "    <tr>\n",
       "      <th>27494</th>\n",
       "      <td>2005-03-11</td>\n",
       "      <td>Guam</td>\n",
       "      <td>North Korea</td>\n",
       "      <td>0.0</td>\n",
       "      <td>21.0</td>\n",
       "      <td>EAFF Championship</td>\n",
       "      <td>Taipei</td>\n",
       "      <td>Taiwan</td>\n",
       "      <td>True</td>\n",
       "    </tr>\n",
       "  </tbody>\n",
       "</table>\n",
       "</div>"
      ],
      "text/plain": [
       "             date  home_team       away_team  home_score  away_score  \\\n",
       "23917  2001-04-11  Australia  American Samoa        31.0         0.0   \n",
       "27494  2005-03-11       Guam     North Korea         0.0        21.0   \n",
       "\n",
       "                         tournament           city    country neutral  \n",
       "23917  FIFA World Cup qualification  Coffs Harbour  Australia   False  \n",
       "27494             EAFF Championship         Taipei     Taiwan    True  "
      ]
     },
     "execution_count": 12,
     "metadata": {},
     "output_type": "execute_result"
    }
   ],
   "source": [
    "results_df[(results_df[\"home_score\"] == 31) | (results_df[\"away_score\"] == 21)]"
   ]
  },
  {
   "cell_type": "markdown",
   "id": "b8ac59ac-0e32-41e3-abbb-dc03adabf62e",
   "metadata": {},
   "source": [
    "**Australia vs American Samoa** can be considered a David vs Goliath fight. Australia has won 4 OFC Nations Cup and 1 AFC Asian Cup, while American Samoa has lost 45 out of 51 matches in its entire history.\n",
    "\n",
    "The **EAFF Championship** is a competition in East Asia for national teams like China, South Korea and Japan. The current champion is South Korea.\n",
    "\n",
    "Missing values might affect the analysis, so we are going to see if there are any."
   ]
  },
  {
   "cell_type": "code",
   "execution_count": 13,
   "id": "f86d0966-e210-4719-af47-79059dcdc423",
   "metadata": {
    "execution": {
     "iopub.execute_input": "2022-01-26T19:49:18.136745Z",
     "iopub.status.busy": "2022-01-26T19:49:18.136245Z",
     "iopub.status.idle": "2022-01-26T19:49:18.154575Z",
     "shell.execute_reply": "2022-01-26T19:49:18.153975Z",
     "shell.execute_reply.started": "2022-01-26T19:49:18.136719Z"
    },
    "tags": []
   },
   "outputs": [
    {
     "data": {
      "text/plain": [
       "date          0\n",
       "home_team     2\n",
       "away_team     2\n",
       "home_score    5\n",
       "away_score    5\n",
       "tournament    0\n",
       "city          0\n",
       "country       0\n",
       "neutral       2\n",
       "dtype: int64"
      ]
     },
     "execution_count": 13,
     "metadata": {},
     "output_type": "execute_result"
    }
   ],
   "source": [
    "results_df.isnull().sum()"
   ]
  },
  {
   "cell_type": "code",
   "execution_count": 14,
   "id": "f91f1c1f-c4e1-48d4-b135-a7e286efcbc8",
   "metadata": {
    "execution": {
     "iopub.execute_input": "2022-01-26T19:49:19.095018Z",
     "iopub.status.busy": "2022-01-26T19:49:19.094731Z",
     "iopub.status.idle": "2022-01-26T19:49:19.101815Z",
     "shell.execute_reply": "2022-01-26T19:49:19.100964Z",
     "shell.execute_reply.started": "2022-01-26T19:49:19.094989Z"
    },
    "tags": []
   },
   "outputs": [
    {
     "data": {
      "text/plain": [
       "date         0\n",
       "home_team    0\n",
       "away_team    0\n",
       "winner       0\n",
       "dtype: int64"
      ]
     },
     "execution_count": 14,
     "metadata": {},
     "output_type": "execute_result"
    }
   ],
   "source": [
    "shootouts_df.isnull().sum()"
   ]
  },
  {
   "cell_type": "markdown",
   "id": "63ce8e36-952b-443e-94fd-9fb63771b62c",
   "metadata": {},
   "source": [
    "There are missing values. Since they are few, let's just ignore them by deleting these rows."
   ]
  },
  {
   "cell_type": "code",
   "execution_count": 15,
   "id": "5f92e58d-1c96-445b-a8a5-a06ef7d3ffd1",
   "metadata": {
    "execution": {
     "iopub.execute_input": "2022-01-26T19:49:49.277515Z",
     "iopub.status.busy": "2022-01-26T19:49:49.277011Z",
     "iopub.status.idle": "2022-01-26T19:49:49.298254Z",
     "shell.execute_reply": "2022-01-26T19:49:49.297586Z",
     "shell.execute_reply.started": "2022-01-26T19:49:49.277487Z"
    },
    "tags": []
   },
   "outputs": [],
   "source": [
    "results_df.drop(results_df[results_df.isna().any(axis=1)].index, inplace=True)"
   ]
  },
  {
   "cell_type": "markdown",
   "id": "4e666698-3d64-4c44-a1ee-3e8ffee326c4",
   "metadata": {},
   "source": [
    "To complement the data we already have, we will load the lists of teams belonging to each [FIFA confederation](https://en.wikipedia.org/wiki/List_of_football_federations#FIFA_Confederations)."
   ]
  },
  {
   "cell_type": "code",
   "execution_count": 17,
   "id": "029cb01a-c336-4f68-83c7-6c16b3334cac",
   "metadata": {
    "execution": {
     "iopub.execute_input": "2022-01-26T19:56:57.316298Z",
     "iopub.status.busy": "2022-01-26T19:56:57.316020Z",
     "iopub.status.idle": "2022-01-26T19:56:57.323364Z",
     "shell.execute_reply": "2022-01-26T19:56:57.322398Z",
     "shell.execute_reply.started": "2022-01-26T19:56:57.316272Z"
    },
    "tags": []
   },
   "outputs": [],
   "source": [
    "afc = [team.strip() for team in open('../data/raw/AFC', \"r\").read().split('\\n')]\n",
    "caf = [team.strip() for team in open('../data/raw/CAF', \"r\").read().strip().split('\\n')]\n",
    "concacaf = [team.strip() for team in open('../data/raw/Concacaf', \"r\").read().strip().split('\\n')]\n",
    "conmebol = [team.strip() for team in open('../data/raw/Conmebol', \"r\").read().strip().split('\\n')]\n",
    "ofc = [team.strip() for team in open('../data/raw/OFC', \"r\").read().strip().split('\\n')]\n",
    "uefa = [team.strip() for team in open('../data/raw/UEFA', \"r\").read().strip().split('\\n')]"
   ]
  },
  {
   "cell_type": "markdown",
   "id": "dc83e447-ebd8-4c42-9e77-21757e4834e5",
   "metadata": {},
   "source": [
    "# Data Processing"
   ]
  },
  {
   "cell_type": "markdown",
   "id": "872654a8-eb52-4543-9e93-2aee6eef7a81",
   "metadata": {},
   "source": [
    "For starters, we are renaming the columns for plotting purposes."
   ]
  },
  {
   "cell_type": "code",
   "execution_count": 18,
   "id": "898b1983-46c4-4be0-85e1-b4d6814770ea",
   "metadata": {
    "execution": {
     "iopub.execute_input": "2022-01-26T19:58:26.164566Z",
     "iopub.status.busy": "2022-01-26T19:58:26.164278Z",
     "iopub.status.idle": "2022-01-26T19:58:26.170063Z",
     "shell.execute_reply": "2022-01-26T19:58:26.169390Z",
     "shell.execute_reply.started": "2022-01-26T19:58:26.164539Z"
    },
    "tags": []
   },
   "outputs": [],
   "source": [
    "results_df.rename(columns={'date': 'Date', \n",
    "                           'home_team': 'Home Team', \n",
    "                           'away_team': 'Away Team',\n",
    "                           'home_score': 'Home Score',\n",
    "                           'away_score': 'Away Score',\n",
    "                           'tournament': 'Tournament',\n",
    "                           'city': 'City',\n",
    "                           'country': 'Country',\n",
    "                           'neutral': 'Neutral'}, inplace=True)\n",
    "\n",
    "shootouts_df.rename(columns={'date': 'Date',\n",
    "                             'home_team': 'Home Team', \n",
    "                             'away_team': 'Away Team',\n",
    "                             'winner': 'Winner'}, inplace=True)"
   ]
  },
  {
   "cell_type": "markdown",
   "id": "e7051ca7-6996-428b-9f08-e5f7b8143977",
   "metadata": {},
   "source": [
    "By creating columns with the result of the match and the total number of goals scored along with the winning and losing teams, we have faster access to the result of the match. In addition, we will add some date-related features: decade, year, month and day of the week."
   ]
  },
  {
   "cell_type": "code",
   "execution_count": 19,
   "id": "f8cbd0ce-f691-4e24-8c80-15b017b93696",
   "metadata": {
    "execution": {
     "iopub.execute_input": "2022-01-26T20:07:39.472776Z",
     "iopub.status.busy": "2022-01-26T20:07:39.472255Z",
     "iopub.status.idle": "2022-01-26T20:07:42.067722Z",
     "shell.execute_reply": "2022-01-26T20:07:42.066901Z",
     "shell.execute_reply.started": "2022-01-26T20:07:39.472751Z"
    },
    "tags": []
   },
   "outputs": [],
   "source": [
    "results_df['Outcome'] = results_df.apply(lambda x : 'H' if x['Home Score'] > x['Away Score'] \n",
    "                                         else ('A' if x['Home Score'] < x['Away Score'] else 'D'),\n",
    "                                         axis=1)\n",
    "\n",
    "results_df['Winning Team'] = results_df.apply(lambda x : x['Home Team'] if x['Home Score'] > x['Away Score'] \n",
    "                                              else (x['Away Team'] if x['Home Score'] < x['Away Score'] else np.nan),\n",
    "                                              axis=1)\n",
    "\n",
    "results_df['Losing Team'] = results_df.apply(lambda x : x['Away Team'] if x['Home Score'] > x['Away Score'] \n",
    "                                             else (x['Home Team'] if x['Home Score'] < x['Away Score'] else np.nan),\n",
    "                                             axis=1)\n",
    "\n",
    "results_df[\"Total Goals\"] = results_df.apply(lambda x: x[\"Home Score\"] + x[\"Away Score\"], axis=1)\n",
    "results_df['Year'] = pd.DatetimeIndex(results_df['Date']).year\n",
    "results_df['Decade'] = results_df['Year'] - results_df['Year'] % 10\n",
    "results_df['Month'] = pd.DatetimeIndex(results_df['Date']).month\n",
    "results_df['Day of Week'] = pd.DatetimeIndex(results_df['Date']).day_name()"
   ]
  },
  {
   "cell_type": "markdown",
   "id": "1a3a3c8e-f906-4d91-9fba-0e0794292312",
   "metadata": {},
   "source": [
    "There are two matches with the wrong team order in the **results.csv** file, it is necessary to correct them to merge results and shootouts."
   ]
  },
  {
   "cell_type": "code",
   "execution_count": 20,
   "id": "afe1f5db-1153-4af0-ab2a-447f9cfb02bb",
   "metadata": {
    "execution": {
     "iopub.execute_input": "2022-01-26T21:10:40.897539Z",
     "iopub.status.busy": "2022-01-26T21:10:40.897274Z",
     "iopub.status.idle": "2022-01-26T21:10:40.904104Z",
     "shell.execute_reply": "2022-01-26T21:10:40.903429Z",
     "shell.execute_reply.started": "2022-01-26T21:10:40.897513Z"
    },
    "tags": []
   },
   "outputs": [],
   "source": [
    "results_df[\"Home Team\"].iloc[31849] = \"South Africa\"\n",
    "results_df[\"Away Team\"].iloc[31849] = \"Zimbabwe\"\n",
    "results_df[\"Home Team\"].iloc[40795] = \"Uganda\"\n",
    "results_df[\"Away Team\"].iloc[40795] = \"South Africa\""
   ]
  },
  {
   "cell_type": "markdown",
   "id": "466ab848-ad09-43d0-ba5d-6f830c9b8726",
   "metadata": {},
   "source": [
    "The results_df dataframe does not include results after penalties, so we are filling in the **Winning Team** and **Losing Team** columns in games that required penalties to determine the winners."
   ]
  },
  {
   "cell_type": "code",
   "execution_count": 29,
   "id": "e1b262bc-56bb-463b-b23e-ec9372fbb78e",
   "metadata": {
    "execution": {
     "iopub.execute_input": "2022-01-26T21:25:06.792351Z",
     "iopub.status.busy": "2022-01-26T21:25:06.792087Z",
     "iopub.status.idle": "2022-01-26T21:25:08.354934Z",
     "shell.execute_reply": "2022-01-26T21:25:08.354117Z",
     "shell.execute_reply.started": "2022-01-26T21:25:06.792326Z"
    },
    "tags": []
   },
   "outputs": [],
   "source": [
    "football_df = results_df.merge(shootouts_df, how=\"left\", on=['Home Team', 'Away Team', 'Date'])\n",
    "\n",
    "football_df[\"Winning Team\"] = football_df.apply(\n",
    "    lambda x: x[\"Winner\"] if not pd.isnull(x[\"Winner\"]) and pd.isnull(x[\"Winning Team\"]) \n",
    "    else x[\"Winning Team\"], \n",
    "    axis=1)\n",
    "\n",
    "football_df[\"Losing Team\"] = football_df.apply(\n",
    "    lambda x: x[\"Home Team\"] if x[\"Winning Team\"] == x[\"Away Team\"] and x[\"Outcome\"] ==\"D\" \n",
    "    else x[\"Away Team\"] if x[\"Winning Team\"] == x[\"Home Team\"] and x[\"Outcome\"] ==\"D\" \n",
    "    else x[\"Losing Team\"], axis=1)\n",
    "\n",
    "football_df.drop(columns = [\"Winner\"], inplace=True)"
   ]
  },
  {
   "cell_type": "markdown",
   "id": "d10a30ed-197d-4fe9-aeec-0cdebe1ab4b8",
   "metadata": {},
   "source": [
    "We should check if the above features were created correctly."
   ]
  },
  {
   "cell_type": "code",
   "execution_count": 35,
   "id": "dc99aec7-fb88-4bf1-9080-731eb2bd2b7c",
   "metadata": {
    "execution": {
     "iopub.execute_input": "2022-01-26T21:34:21.471925Z",
     "iopub.status.busy": "2022-01-26T21:34:21.471651Z",
     "iopub.status.idle": "2022-01-26T21:34:21.488384Z",
     "shell.execute_reply": "2022-01-26T21:34:21.487489Z",
     "shell.execute_reply.started": "2022-01-26T21:34:21.471899Z"
    },
    "tags": []
   },
   "outputs": [
    {
     "data": {
      "text/html": [
       "<div>\n",
       "<style scoped>\n",
       "    .dataframe tbody tr th:only-of-type {\n",
       "        vertical-align: middle;\n",
       "    }\n",
       "\n",
       "    .dataframe tbody tr th {\n",
       "        vertical-align: top;\n",
       "    }\n",
       "\n",
       "    .dataframe thead th {\n",
       "        text-align: right;\n",
       "    }\n",
       "</style>\n",
       "<table border=\"1\" class=\"dataframe\">\n",
       "  <thead>\n",
       "    <tr style=\"text-align: right;\">\n",
       "      <th></th>\n",
       "      <th>Date</th>\n",
       "      <th>Home Team</th>\n",
       "      <th>Away Team</th>\n",
       "      <th>Home Score</th>\n",
       "      <th>Away Score</th>\n",
       "      <th>Tournament</th>\n",
       "      <th>City</th>\n",
       "      <th>Country</th>\n",
       "      <th>Neutral</th>\n",
       "      <th>Outcome</th>\n",
       "      <th>Winning Team</th>\n",
       "      <th>Losing Team</th>\n",
       "      <th>Total Goals</th>\n",
       "      <th>Year</th>\n",
       "      <th>Decade</th>\n",
       "      <th>Month</th>\n",
       "      <th>Day of Week</th>\n",
       "    </tr>\n",
       "  </thead>\n",
       "  <tbody>\n",
       "    <tr>\n",
       "      <th>0</th>\n",
       "      <td>1872-11-30</td>\n",
       "      <td>Scotland</td>\n",
       "      <td>England</td>\n",
       "      <td>0.0</td>\n",
       "      <td>0.0</td>\n",
       "      <td>Friendly</td>\n",
       "      <td>Glasgow</td>\n",
       "      <td>Scotland</td>\n",
       "      <td>False</td>\n",
       "      <td>D</td>\n",
       "      <td>NaN</td>\n",
       "      <td>NaN</td>\n",
       "      <td>0.0</td>\n",
       "      <td>1872</td>\n",
       "      <td>1870</td>\n",
       "      <td>11</td>\n",
       "      <td>Saturday</td>\n",
       "    </tr>\n",
       "    <tr>\n",
       "      <th>1</th>\n",
       "      <td>1873-03-08</td>\n",
       "      <td>England</td>\n",
       "      <td>Scotland</td>\n",
       "      <td>4.0</td>\n",
       "      <td>2.0</td>\n",
       "      <td>Friendly</td>\n",
       "      <td>London</td>\n",
       "      <td>England</td>\n",
       "      <td>False</td>\n",
       "      <td>H</td>\n",
       "      <td>England</td>\n",
       "      <td>Scotland</td>\n",
       "      <td>6.0</td>\n",
       "      <td>1873</td>\n",
       "      <td>1870</td>\n",
       "      <td>3</td>\n",
       "      <td>Saturday</td>\n",
       "    </tr>\n",
       "    <tr>\n",
       "      <th>2</th>\n",
       "      <td>1874-03-07</td>\n",
       "      <td>Scotland</td>\n",
       "      <td>England</td>\n",
       "      <td>2.0</td>\n",
       "      <td>1.0</td>\n",
       "      <td>Friendly</td>\n",
       "      <td>Glasgow</td>\n",
       "      <td>Scotland</td>\n",
       "      <td>False</td>\n",
       "      <td>H</td>\n",
       "      <td>Scotland</td>\n",
       "      <td>England</td>\n",
       "      <td>3.0</td>\n",
       "      <td>1874</td>\n",
       "      <td>1870</td>\n",
       "      <td>3</td>\n",
       "      <td>Saturday</td>\n",
       "    </tr>\n",
       "    <tr>\n",
       "      <th>3</th>\n",
       "      <td>1875-03-06</td>\n",
       "      <td>England</td>\n",
       "      <td>Scotland</td>\n",
       "      <td>2.0</td>\n",
       "      <td>2.0</td>\n",
       "      <td>Friendly</td>\n",
       "      <td>London</td>\n",
       "      <td>England</td>\n",
       "      <td>False</td>\n",
       "      <td>D</td>\n",
       "      <td>NaN</td>\n",
       "      <td>NaN</td>\n",
       "      <td>4.0</td>\n",
       "      <td>1875</td>\n",
       "      <td>1870</td>\n",
       "      <td>3</td>\n",
       "      <td>Saturday</td>\n",
       "    </tr>\n",
       "    <tr>\n",
       "      <th>4</th>\n",
       "      <td>1876-03-04</td>\n",
       "      <td>Scotland</td>\n",
       "      <td>England</td>\n",
       "      <td>3.0</td>\n",
       "      <td>0.0</td>\n",
       "      <td>Friendly</td>\n",
       "      <td>Glasgow</td>\n",
       "      <td>Scotland</td>\n",
       "      <td>False</td>\n",
       "      <td>H</td>\n",
       "      <td>Scotland</td>\n",
       "      <td>England</td>\n",
       "      <td>3.0</td>\n",
       "      <td>1876</td>\n",
       "      <td>1870</td>\n",
       "      <td>3</td>\n",
       "      <td>Saturday</td>\n",
       "    </tr>\n",
       "  </tbody>\n",
       "</table>\n",
       "</div>"
      ],
      "text/plain": [
       "         Date Home Team Away Team  Home Score  Away Score Tournament     City  \\\n",
       "0  1872-11-30  Scotland   England         0.0         0.0   Friendly  Glasgow   \n",
       "1  1873-03-08   England  Scotland         4.0         2.0   Friendly   London   \n",
       "2  1874-03-07  Scotland   England         2.0         1.0   Friendly  Glasgow   \n",
       "3  1875-03-06   England  Scotland         2.0         2.0   Friendly   London   \n",
       "4  1876-03-04  Scotland   England         3.0         0.0   Friendly  Glasgow   \n",
       "\n",
       "    Country Neutral Outcome Winning Team Losing Team  Total Goals  Year  \\\n",
       "0  Scotland   False       D          NaN         NaN          0.0  1872   \n",
       "1   England   False       H      England    Scotland          6.0  1873   \n",
       "2  Scotland   False       H     Scotland     England          3.0  1874   \n",
       "3   England   False       D          NaN         NaN          4.0  1875   \n",
       "4  Scotland   False       H     Scotland     England          3.0  1876   \n",
       "\n",
       "   Decade  Month Day of Week  \n",
       "0    1870     11    Saturday  \n",
       "1    1870      3    Saturday  \n",
       "2    1870      3    Saturday  \n",
       "3    1870      3    Saturday  \n",
       "4    1870      3    Saturday  "
      ]
     },
     "execution_count": 35,
     "metadata": {},
     "output_type": "execute_result"
    }
   ],
   "source": [
    "football_df.head()"
   ]
  },
  {
   "cell_type": "markdown",
   "id": "c93bd5b8-4739-4bf8-a362-3606dfe6dc09",
   "metadata": {},
   "source": [
    "Everything checks out!\n",
    "\n",
    "Also, we are creating a dataframe with all the teams, the year of their first international match and their affiliations."
   ]
  },
  {
   "cell_type": "code",
   "execution_count": 42,
   "id": "36b4e72a-6de2-401d-be10-4f8db5e9056b",
   "metadata": {
    "execution": {
     "iopub.execute_input": "2022-01-26T22:00:51.793513Z",
     "iopub.status.busy": "2022-01-26T22:00:51.793196Z",
     "iopub.status.idle": "2022-01-26T22:00:51.799442Z",
     "shell.execute_reply": "2022-01-26T22:00:51.798828Z",
     "shell.execute_reply.started": "2022-01-26T22:00:51.793478Z"
    },
    "tags": []
   },
   "outputs": [],
   "source": [
    "affiliations_df = pd.DataFrame({\n",
    "    'Affiliation' : ['AFC'] * len(afc) + ['CAF'] * len(caf) + ['CONCACAF'] * len(concacaf) + \\\n",
    "    ['CONMEBOL'] * len(conmebol) + ['OFC'] * len(ofc) + ['UEFA'] * len(uefa),\n",
    "    'Region' : ['Asia'] * len(afc) + ['Africa'] * len(caf) + ['North and Central America'] * len(concacaf) + \\\n",
    "    ['South America'] * len(conmebol) + ['Oceania'] * len(ofc) + ['Europe'] * len(uefa),\n",
    "    'Team': afc + caf + concacaf + conmebol + ofc + uefa\n",
    "})"
   ]
  },
  {
   "cell_type": "code",
   "execution_count": 43,
   "id": "f6a86106-ccc6-4590-a1ea-66a939e969a5",
   "metadata": {
    "execution": {
     "iopub.execute_input": "2022-01-26T22:00:52.379002Z",
     "iopub.status.busy": "2022-01-26T22:00:52.378596Z",
     "iopub.status.idle": "2022-01-26T22:00:54.332185Z",
     "shell.execute_reply": "2022-01-26T22:00:54.331406Z",
     "shell.execute_reply.started": "2022-01-26T22:00:52.378967Z"
    },
    "tags": []
   },
   "outputs": [
    {
     "data": {
      "text/html": [
       "<div>\n",
       "<style scoped>\n",
       "    .dataframe tbody tr th:only-of-type {\n",
       "        vertical-align: middle;\n",
       "    }\n",
       "\n",
       "    .dataframe tbody tr th {\n",
       "        vertical-align: top;\n",
       "    }\n",
       "\n",
       "    .dataframe thead th {\n",
       "        text-align: right;\n",
       "    }\n",
       "</style>\n",
       "<table border=\"1\" class=\"dataframe\">\n",
       "  <thead>\n",
       "    <tr style=\"text-align: right;\">\n",
       "      <th></th>\n",
       "      <th>Team</th>\n",
       "      <th>First Game Year</th>\n",
       "      <th>First Game Decade</th>\n",
       "      <th>Affiliation</th>\n",
       "      <th>Region</th>\n",
       "    </tr>\n",
       "  </thead>\n",
       "  <tbody>\n",
       "    <tr>\n",
       "      <th>125</th>\n",
       "      <td>Scotland</td>\n",
       "      <td>1872</td>\n",
       "      <td>1870</td>\n",
       "      <td>UEFA</td>\n",
       "      <td>Europe</td>\n",
       "    </tr>\n",
       "    <tr>\n",
       "      <th>28</th>\n",
       "      <td>England</td>\n",
       "      <td>1872</td>\n",
       "      <td>1870</td>\n",
       "      <td>UEFA</td>\n",
       "      <td>Europe</td>\n",
       "    </tr>\n",
       "    <tr>\n",
       "      <th>68</th>\n",
       "      <td>Wales</td>\n",
       "      <td>1876</td>\n",
       "      <td>1870</td>\n",
       "      <td>UEFA</td>\n",
       "      <td>Europe</td>\n",
       "    </tr>\n",
       "    <tr>\n",
       "      <th>279</th>\n",
       "      <td>Northern Ireland</td>\n",
       "      <td>1882</td>\n",
       "      <td>1880</td>\n",
       "      <td>UEFA</td>\n",
       "      <td>Europe</td>\n",
       "    </tr>\n",
       "    <tr>\n",
       "      <th>9</th>\n",
       "      <td>Canada</td>\n",
       "      <td>1885</td>\n",
       "      <td>1880</td>\n",
       "      <td>CONCACAF</td>\n",
       "      <td>North and Central America</td>\n",
       "    </tr>\n",
       "  </tbody>\n",
       "</table>\n",
       "</div>"
      ],
      "text/plain": [
       "                 Team  First Game Year  First Game Decade Affiliation  \\\n",
       "125          Scotland             1872               1870        UEFA   \n",
       "28            England             1872               1870        UEFA   \n",
       "68              Wales             1876               1870        UEFA   \n",
       "279  Northern Ireland             1882               1880        UEFA   \n",
       "9              Canada             1885               1880    CONCACAF   \n",
       "\n",
       "                        Region  \n",
       "125                     Europe  \n",
       "28                      Europe  \n",
       "68                      Europe  \n",
       "279                     Europe  \n",
       "9    North and Central America  "
      ]
     },
     "execution_count": 43,
     "metadata": {},
     "output_type": "execute_result"
    }
   ],
   "source": [
    "all_teams = list(football_df[\"Home Team\"].unique())\n",
    "all_teams.extend(list(football_df[\"Away Team\"].unique()))\n",
    "all_teams_df = pd.DataFrame({'Team': list(set(all_teams))})\n",
    "all_teams_df[\"First Game Year\"] = all_teams_df[\"Team\"].apply(lambda x: football_df[(football_df['Home Team'] == x) | (football_df['Away Team'] == x)].head(1)['Year'].values[0])\n",
    "all_teams_df['First Game Decade'] = all_teams_df[\"First Game Year\"] - all_teams_df[\"First Game Year\"] % 10\n",
    "all_teams_df = all_teams_df.merge(affiliations_df, how=\"left\", on=['Team'])\n",
    "all_teams_df.sort_values(by=\"First Game Year\", inplace=True)\n",
    "all_teams_df.head()"
   ]
  },
  {
   "cell_type": "markdown",
   "id": "62571d9b-ed1b-4344-a810-90128d168623",
   "metadata": {},
   "source": [
    "Finally, let's create a list with the days of the week in order, which will be useful during the analysis."
   ]
  },
  {
   "cell_type": "code",
   "execution_count": 44,
   "id": "e33dc658-f7e1-42b1-ac04-a11013a6da30",
   "metadata": {
    "execution": {
     "iopub.execute_input": "2022-01-26T22:01:45.970488Z",
     "iopub.status.busy": "2022-01-26T22:01:45.970013Z",
     "iopub.status.idle": "2022-01-26T22:01:45.974310Z",
     "shell.execute_reply": "2022-01-26T22:01:45.973296Z",
     "shell.execute_reply.started": "2022-01-26T22:01:45.970462Z"
    },
    "tags": []
   },
   "outputs": [],
   "source": [
    "week_days = [\"Monday\", \"Tuesday\", \"Wednesday\", \"Thursday\", \"Friday\", \"Saturday\", \"Sunday\"]"
   ]
  },
  {
   "cell_type": "markdown",
   "id": "3f10af03-c83e-4f1c-b2be-da3b11f96f00",
   "metadata": {},
   "source": [
    "We are ready to plot!"
   ]
  },
  {
   "cell_type": "markdown",
   "id": "a72dcec5-882b-44c0-a7c5-684dd9d7fd72",
   "metadata": {},
   "source": [
    "# Data Visualization"
   ]
  },
  {
   "cell_type": "markdown",
   "id": "0cc152f6-8d1c-4815-a173-2a650dcf845f",
   "metadata": {},
   "source": [
    "Let's go through the rest of this notebook creating different charts to answer a few questions."
   ]
  },
  {
   "cell_type": "markdown",
   "id": "b7bfedd1-a71c-4f05-a14a-0cabcfba3322",
   "metadata": {},
   "source": [
    "**How has the adoption of football been over time?**"
   ]
  },
  {
   "cell_type": "markdown",
   "id": "a8f42fcf-911f-4678-9b6d-34022e4c05a9",
   "metadata": {},
   "source": [
    "Number of new teams per decade."
   ]
  },
  {
   "cell_type": "code",
   "execution_count": null,
   "id": "220b8714-40e6-4992-88f3-719a452c707c",
   "metadata": {
    "tags": []
   },
   "outputs": [],
   "source": [
    "total_new_teams_per_decade = all_teams_df[\"First Game Decade\"].value_counts().sort_index()"
   ]
  },
  {
   "cell_type": "code",
   "execution_count": null,
   "id": "4dc4f661-4476-4310-acf6-53896dfdb729",
   "metadata": {
    "tags": []
   },
   "outputs": [],
   "source": [
    "plt.figure(figsize=(20,10))\n",
    "# ax = sns.lineplot(data=total_new_teams_per_decade_per_region, x=\"First Game Decade\", y=\"Count\", hue=\"Region\")\n",
    "ax = sns.lineplot(data=total_new_teams_per_decade, x=total_new_teams_per_decade.index, y=total_new_teams_per_decade.values)\n",
    "ax.set_title('How has the adoption of football been over time?', size=20)\n",
    "ax.set_xlabel(xlabel='Decade', size=12)\n",
    "ax.set_ylabel(ylabel='New Teams', size=12)\n",
    "ax.set(xticks=total_new_teams_per_decade.index);"
   ]
  },
  {
   "cell_type": "markdown",
   "id": "d4e797cf-6558-447d-bad7-d656c0175f0b",
   "metadata": {},
   "source": [
    "The number of teams steadily increased 1902 and this increase accelerated up to 1920.\n",
    "\n",
    "From there, the pace of addition of new teams increase much faster and stalls abit around the late 40's\n",
    "\n",
    "Then we see a steady and rapid growth up to the mid 1990's."
   ]
  },
  {
   "cell_type": "code",
   "execution_count": null,
   "id": "b832b859-2682-4991-9080-8d7f7ab871dd",
   "metadata": {
    "tags": []
   },
   "outputs": [],
   "source": [
    "total_new_teams_per_decade_per_region = all_teams_df[[\"First Game Decade\", \"Region\"]].value_counts().sort_index().reset_index(level=1)\n",
    "total_new_teams_per_decade_per_region.rename(columns={0: 'Count'}, inplace=True)"
   ]
  },
  {
   "cell_type": "code",
   "execution_count": null,
   "id": "9677ba43-dcc6-4806-a264-e3f79aab1d7d",
   "metadata": {
    "tags": []
   },
   "outputs": [],
   "source": [
    "total_new_teams_per_decade_per_region = pd.pivot(total_new_teams_per_decade_per_region,columns='Region', values='Count')"
   ]
  },
  {
   "cell_type": "code",
   "execution_count": null,
   "id": "054fdd99-8118-4542-83d7-e1f1ce2d69dd",
   "metadata": {
    "tags": []
   },
   "outputs": [],
   "source": [
    "ax = total_new_teams_per_decade_per_region.plot(kind=\"bar\", stacked=True, figsize=(20,10))\n",
    "ax.set_title(\"How has the adoption of football been over time?\", size=20)\n",
    "ax.set_xlabel(xlabel=\"National Team\", size=12)\n",
    "ax.set_ylabel(ylabel=\"Matches\", size=12)"
   ]
  },
  {
   "cell_type": "markdown",
   "id": "072e60fe-27e1-43a0-8d38-a784cadbdde6",
   "metadata": {},
   "source": [
    "Europe was the first continent to provide many soccer teams, followed by the American continent (North and South) in the 1880's. Between 1920 and 1940, the Americas even had a stronger growth than Europe. The recent rapid growth period in Europe are likely explained by the birth of new countries, such as the ex-Yugoslavia derived countries in the 1990's. Oceania and Asia started a bit later, around the 1920's and Africa was the last continent to join in the mid 20's but then saw a very rapid growth until the mid 1970's."
   ]
  },
  {
   "cell_type": "markdown",
   "id": "0b3bde54-cce2-4960-8891-015ad4515b79",
   "metadata": {
    "execution": {
     "iopub.execute_input": "2022-01-23T12:46:33.868399Z",
     "iopub.status.busy": "2022-01-23T12:46:33.868104Z",
     "iopub.status.idle": "2022-01-23T12:46:33.875951Z",
     "shell.execute_reply": "2022-01-23T12:46:33.875085Z",
     "shell.execute_reply.started": "2022-01-23T12:46:33.868373Z"
    }
   },
   "source": [
    "**How many matches per year?**"
   ]
  },
  {
   "cell_type": "code",
   "execution_count": null,
   "id": "6decedf8-2965-4e7f-be56-a7f869ef073f",
   "metadata": {
    "tags": []
   },
   "outputs": [],
   "source": [
    "games_per_year = football_df[\"Year\"].value_counts().sort_index()\n",
    "games_per_decade = football_df[\"Decade\"].value_counts().sort_index()\n",
    "\n",
    "world_cup_year_games = games_per_year[games_per_year.index.isin(football_df[football_df[\"Tournament\"] == \"FIFA World Cup\"][\"Year\"].unique())]\n",
    "\n",
    "plt.figure(figsize=(20,10))\n",
    "\n",
    "# Mark world wars years\n",
    "plt.axvline(x = 1914, color = 'r', linestyle = 'dashed', linewidth=1, ymax=0.2)\n",
    "plt.axvline(x = 1918, color = 'r', linestyle = 'dashed', linewidth=1, ymax=0.2)\n",
    "plt.text(1912, 200, 'World War I', color=\"red\"); \n",
    "plt.axvline(x = 1939, color = 'r', linestyle = 'dashed', linewidth=1, ymax=0.2)\n",
    "plt.axvline(x = 1945, color = 'r', linestyle = 'dashed', linewidth=1, ymax=0.2)\n",
    "plt.text(1938, 200, 'World War II', color=\"red\"); \n",
    "plt.plot(world_cup_year_games, 'go', label=\"World Cup Year\")\n",
    "plt.text(2017, 250, 'COVID-19', color=\"red\"); \n",
    "\n",
    "# ax = sns.lineplot(data=total_new_teams_per_decade_per_region, x=\"First Game Decade\", y=\"Count\", hue=\"Region\")\n",
    "ax = sns.lineplot(data=games_per_year, x=games_per_year.index, y=games_per_year.values)\n",
    "ax.set_title('How many matches per year?', size=20)\n",
    "ax.set_xlabel(xlabel='Year', size=12)\n",
    "ax.set_ylabel(ylabel='Matches', size=12)\n",
    "ax.set(xticks=games_per_decade.index);"
   ]
  },
  {
   "cell_type": "markdown",
   "id": "b571c53c-58ff-4d0f-9fff-6c44faf93b97",
   "metadata": {
    "execution": {
     "iopub.execute_input": "2022-01-23T15:48:22.339252Z",
     "iopub.status.busy": "2022-01-23T15:48:22.338975Z",
     "iopub.status.idle": "2022-01-23T15:48:22.344018Z",
     "shell.execute_reply": "2022-01-23T15:48:22.342863Z",
     "shell.execute_reply.started": "2022-01-23T15:48:22.339227Z"
    }
   },
   "source": [
    "**How many matches per month?**"
   ]
  },
  {
   "cell_type": "code",
   "execution_count": null,
   "id": "a62ad6fd-9503-4dd7-abc5-055365c6f024",
   "metadata": {
    "tags": []
   },
   "outputs": [],
   "source": [
    "games_per_month = football_df[[\"Month\", \"Year\"]].value_counts().reset_index().sort_values(by=[\"Month\", \"Year\"])"
   ]
  },
  {
   "cell_type": "code",
   "execution_count": null,
   "id": "9b0c7b35-f6de-4023-9ba0-5a98e47331c0",
   "metadata": {
    "tags": []
   },
   "outputs": [],
   "source": [
    "fig, ax = plt.subplots(ncols=3, nrows=4, figsize=(20,10))\n",
    "index = 0\n",
    "ax = ax.flatten()\n",
    "\n",
    "for value in games_per_month[\"Month\"].unique():\n",
    "    sns.lineplot(data=games_per_month[games_per_month[\"Month\"] == value], x=\"Year\", y=0, ax=ax[index])\n",
    "    ax[index].set_ylim(top=300)\n",
    "    index+=1\n",
    "\n",
    "fig.suptitle(\"How many matches per month?\", fontsize=20);"
   ]
  },
  {
   "cell_type": "markdown",
   "id": "9355b23e-494f-4d3c-9115-ae7b11464cd4",
   "metadata": {},
   "source": [
    "The first games mostly occur during Spring months and since then, some month have known some peaks of popularity for intenational games at different period (e.g. many games happened in December in the 1940s). In a more recent history, international games became less common in May but more in June."
   ]
  },
  {
   "cell_type": "markdown",
   "id": "c9bdab86-407d-45af-b482-fcdd4cd42400",
   "metadata": {},
   "source": [
    "**How many matches per day of week?**"
   ]
  },
  {
   "cell_type": "code",
   "execution_count": null,
   "id": "61c27f4b-c816-420d-bae6-4243bdd0e8b9",
   "metadata": {
    "tags": []
   },
   "outputs": [],
   "source": [
    "games_per_dow = football_df[[\"Day of Week\", \"Year\"]].value_counts().reset_index().sort_values(by=[\"Year\"])"
   ]
  },
  {
   "cell_type": "code",
   "execution_count": null,
   "id": "6015e6f3-1e4d-4e20-810a-a9b315ca38ab",
   "metadata": {
    "tags": []
   },
   "outputs": [],
   "source": [
    "fig, ax = plt.subplots(ncols=2, nrows=4, figsize=(20,10))\n",
    "index = 0\n",
    "ax = ax.flatten()\n",
    "\n",
    "for value in week_days:\n",
    "    sns.lineplot(data=games_per_dow[games_per_dow[\"Day of Week\"] == value], x=\"Year\", y=0, ax=ax[index])\n",
    "    ax[index].set_ylim(top=450)\n",
    "    index+=1\n",
    "\n",
    "fig.delaxes(ax[7]) #The indexing is zero-based here\n",
    "fig.suptitle(\"How many matches per day of week?\", fontsize=20);"
   ]
  },
  {
   "cell_type": "markdown",
   "id": "c8418574-2ae2-446b-aaeb-6131f9a3dd17",
   "metadata": {},
   "source": [
    "Interstingly, the very first games mostly occur on Saturdays but a decent number also took place on Mondays! No game occurred on a Sunday until 1900, potentially for religious purposes but, around the 1910's Sunday was the most common day of the week to see an international game. Other week days, from Tuesday to Friday, weren't an option until later (as late as 1910 for Fridays).\n",
    "\n",
    "The proportion of games happenning on a given day then changed quite a lot. Wednesdays games became very common and around 30% of the games happened on this day around the year 2000. More recently days such as Tuesday, Thursday or Friday also became more popular."
   ]
  },
  {
   "cell_type": "markdown",
   "id": "b231be18-2798-49aa-a772-73ff8fd71ebe",
   "metadata": {},
   "source": [
    "**Which cities hosted most games?**"
   ]
  },
  {
   "cell_type": "code",
   "execution_count": null,
   "id": "4d5ac1cd-df06-4719-a185-2136202eb105",
   "metadata": {
    "tags": []
   },
   "outputs": [],
   "source": [
    "from geopy.geocoders import Nominatim\n",
    "\n",
    "geolocator = Nominatim(user_agent=\"location script\")\n",
    "\n",
    "def func(x):\n",
    "    city = x[\"City\"]\n",
    "    location = geolocator.geocode(city)\n",
    "    if location is None:\n",
    "        location = geolocator.geocode(city.title())\n",
    "    if location is None:\n",
    "        return None\n",
    "    return [location.latitude, location.longitude]\n",
    "\n",
    "\n",
    "football_cities_df = pd.DataFrame(football_df[\"City\"].value_counts().sort_values(ascending=False).reset_index())\n",
    "football_cities_df.rename(columns={'index': 'City', 'City': 'Count'}, inplace=True)\n",
    "football_cities_df[[\"Latitude\", \"Longitude\"]] = football_cities_df.apply(lambda x: func(x), axis=1, result_type='expand')"
   ]
  },
  {
   "cell_type": "code",
   "execution_count": null,
   "id": "103e1cc1-9c4b-400e-a8ef-47e4484bd363",
   "metadata": {},
   "outputs": [],
   "source": [
    "# TODO -> Build dataframe with lat and long of all cities in the dataset."
   ]
  },
  {
   "cell_type": "code",
   "execution_count": null,
   "id": "1b083ef9-88a2-457e-b022-098c76c4a10a",
   "metadata": {
    "tags": []
   },
   "outputs": [],
   "source": [
    "import folium\n",
    "\n",
    "m = folium.Map(location=[20,0], tiles=\"OpenStreetMap\", zoom_start=2)\n",
    "\n",
    "for index, value in football_cities_df.iterrows():\n",
    "    if not pd.isnull(value['Latitude']) and not pd.isnull(value['Longitude']):\n",
    "        folium.Circle(\n",
    "          location=[value['Latitude'], value['Longitude']],\n",
    "          popup=value[\"City\"],\n",
    "          radius=float(value[\"Count\"]) * 1000,\n",
    "          color='crimson',\n",
    "          fill=True,\n",
    "          fill_color='crimson'\n",
    "       ).add_to(m)\n",
    "m"
   ]
  },
  {
   "cell_type": "markdown",
   "id": "34ab3946-ef06-45be-accd-b300e3a97cb2",
   "metadata": {},
   "source": [
    "A large part of the larger bubbles can be seen in capitals, which was to be expected."
   ]
  },
  {
   "cell_type": "markdown",
   "id": "a3227128-fb87-4618-a76d-8d71389e29a6",
   "metadata": {
    "execution": {
     "iopub.execute_input": "2022-01-23T21:19:46.058210Z",
     "iopub.status.busy": "2022-01-23T21:19:46.057469Z",
     "iopub.status.idle": "2022-01-23T21:19:46.064525Z",
     "shell.execute_reply": "2022-01-23T21:19:46.063484Z",
     "shell.execute_reply.started": "2022-01-23T21:19:46.058179Z"
    }
   },
   "source": [
    "**Which city is better for home team?**"
   ]
  },
  {
   "cell_type": "code",
   "execution_count": null,
   "id": "ec587dd4-904b-4d28-8760-1f441fa8adcb",
   "metadata": {
    "tags": []
   },
   "outputs": [],
   "source": [
    "home_team_wins_by_city = pd.DataFrame(\n",
    "    football_df[(football_df[\"Neutral\"] == False) & (football_df[\"Home Team\"] == football_df[\"Winning Team\"])][[\"Home Team\", \"City\"]].value_counts().reset_index())"
   ]
  },
  {
   "cell_type": "code",
   "execution_count": null,
   "id": "4e241623-3fce-41e3-8153-cfcac88ebeb9",
   "metadata": {
    "tags": []
   },
   "outputs": [],
   "source": [
    "t = pd.DataFrame(\n",
    "    football_df[(football_df[\"Neutral\"] == False) & (football_df[\"Home Team\"] == football_df[\"Winning Team\"])][[\"Home Team\", \"City\"]].value_counts().reset_index()\n",
    ").sort_values(by=0, ascending=False)\n",
    "\n",
    "home_team_total_wins = pd.DataFrame(football_df[(football_df[\"Neutral\"] == False) & (football_df[\"Home Team\"] == football_df[\"Winning Team\"])][\"Home Team\"].value_counts().reset_index()).rename(columns={'index': 'Home Team', 'Home Team': 'Count'})\n",
    "t = t.merge(home_team_total_wins, how=\"inner\", on=[\"Home Team\"])\n",
    "t[\"Win Ratio\"] = t[0] / t[\"Count\"]\n",
    "t.sort_values(by=[\"Win Ratio\"], inplace=True, ascending=False)\n",
    "\n",
    "# TODO - get win ratio instead of total\n",
    "t.drop_duplicates(subset=['Home Team'], keep='first', inplace=True)\n",
    "\n",
    "t[[\"Latitude\", \"Longitude\"]] = t.apply(lambda x: func(x), axis=1, result_type='expand')\n",
    "t = t[t[\"Count\"] > 25]"
   ]
  },
  {
   "cell_type": "code",
   "execution_count": null,
   "id": "8a416755-49f7-4c79-9bb5-4fd65ccf2362",
   "metadata": {
    "tags": []
   },
   "outputs": [],
   "source": [
    "m = folium.Map(location=[20,0], tiles=\"OpenStreetMap\", zoom_start=2)\n",
    "\n",
    "for index, value in t.iterrows():\n",
    "    if not pd.isnull(value['Latitude']) and not pd.isnull(value['Longitude']):\n",
    "        folium.Circle(\n",
    "          location=[value['Latitude'], value['Longitude']],\n",
    "          popup=f\"{value['Home Team']} - {value['City']}:{value['Win Ratio']:.2f} \",\n",
    "          radius=value[\"Win Ratio\"] * 200000,\n",
    "          color='crimson',\n",
    "          fill=True,\n",
    "          fill_color='crimson'\n",
    "       ).add_to(m)\n",
    "m"
   ]
  },
  {
   "cell_type": "markdown",
   "id": "cbb0d82a-91fb-457e-9d79-6c41bbe0adfe",
   "metadata": {},
   "source": [
    "**Average number of goals per game per year**"
   ]
  },
  {
   "cell_type": "code",
   "execution_count": null,
   "id": "0aedbd74-9cd3-4758-9e2c-25f3b2b7c502",
   "metadata": {
    "tags": []
   },
   "outputs": [],
   "source": [
    "goals_per_year = pd.DataFrame(football_df.groupby([\"Year\"])[\"Total Goals\"].sum().reset_index())"
   ]
  },
  {
   "cell_type": "code",
   "execution_count": null,
   "id": "654df2cf-deb6-4510-b5f9-9bc452f99463",
   "metadata": {
    "tags": []
   },
   "outputs": [],
   "source": [
    "games_per_year = pd.DataFrame(football_df[\"Year\"].value_counts().sort_index().reset_index())\n",
    "games_per_year.rename(columns={'index': 'Year', 'Year': 'Matches'}, inplace=True)"
   ]
  },
  {
   "cell_type": "code",
   "execution_count": null,
   "id": "97c0b905-3ac8-4df1-83da-c85c21158cb9",
   "metadata": {
    "tags": []
   },
   "outputs": [],
   "source": [
    "goals_per_year = goals_per_year.merge(games_per_year, how=\"inner\", on=[\"Year\"])\n",
    "goals_per_year[\"Goals Per Game\"] = goals_per_year[\"Total Goals\"] / goals_per_year['Matches']"
   ]
  },
  {
   "cell_type": "code",
   "execution_count": null,
   "id": "75cb45ad-8154-4cd2-9fc2-046c52b445e5",
   "metadata": {
    "tags": []
   },
   "outputs": [],
   "source": [
    "plt.figure(figsize=(20,10))\n",
    "# ax = sns.lineplot(data=total_new_teams_per_decade_per_region, x=\"First Game Decade\", y=\"Count\", hue=\"Region\")\n",
    "ax = sns.lineplot(data=goals_per_year, x=\"Year\", y=\"Goals Per Game\")\n",
    "ax.set_title('Average number of goals per game per year', size=20)\n",
    "ax.set_xlabel(xlabel='Year', size=12)\n",
    "ax.set_ylabel(ylabel='Goals Per Game', size=12)\n",
    "ax.set(xticks=games_per_decade.index);"
   ]
  },
  {
   "cell_type": "markdown",
   "id": "44dc94c9-ce8f-4ef4-8a62-bb56fd20e162",
   "metadata": {
    "execution": {
     "iopub.execute_input": "2022-01-25T16:15:57.027615Z",
     "iopub.status.busy": "2022-01-25T16:15:57.027334Z",
     "iopub.status.idle": "2022-01-25T16:15:57.035676Z",
     "shell.execute_reply": "2022-01-25T16:15:57.034602Z",
     "shell.execute_reply.started": "2022-01-25T16:15:57.027590Z"
    }
   },
   "source": [
    "**Average number of goals per game per year per major tournament**"
   ]
  },
  {
   "cell_type": "code",
   "execution_count": null,
   "id": "60c1f0e9-42ad-4b45-be24-cf8d27586873",
   "metadata": {
    "tags": []
   },
   "outputs": [],
   "source": [
    "goals_per_year = pd.DataFrame(football_df[football_df[\"Tournament\"].isin(major_tournaments)].groupby([\"Year\", \"Tournament\"])[\"Total Goals\"].sum().reset_index())\n",
    "\n",
    "games_per_year = pd.DataFrame(football_df[\"Year\"].value_counts().sort_index().reset_index())\n",
    "games_per_year.rename(columns={'index': 'Year', 'Year': 'Matches'}, inplace=True)"
   ]
  },
  {
   "cell_type": "code",
   "execution_count": null,
   "id": "8a1a9156-687f-400f-94d7-f06acfdfbbf6",
   "metadata": {
    "tags": []
   },
   "outputs": [],
   "source": [
    "goals_per_year = goals_per_year.merge(games_per_year, how=\"inner\", on=[\"Year\"])\n",
    "goals_per_year[\"Goals Per Game\"] = goals_per_year[\"Total Goals\"] / goals_per_year['Matches']"
   ]
  },
  {
   "cell_type": "code",
   "execution_count": null,
   "id": "a072a3c1-4162-4a8f-a474-e52325d8edda",
   "metadata": {
    "tags": []
   },
   "outputs": [],
   "source": [
    "fig, ax = plt.subplots(ncols=2, nrows=6, figsize=(20,10))\n",
    "index = 0\n",
    "ax = ax.flatten()\n",
    "\n",
    "for value in major_tournaments:\n",
    "    sns.lineplot(data=goals_per_year[goals_per_year[\"Tournament\"] == value], x=\"Year\", y=\"Goals Per Game\", ax=ax[index])\n",
    "    index+=1\n",
    "\n",
    "fig.delaxes(ax[11]) #The indexing is zero-based here\n",
    "fig.suptitle(\"Average number of goals per game per year per major tournament\", fontsize=20);"
   ]
  },
  {
   "cell_type": "markdown",
   "id": "c74fd346-1668-4465-9026-230300162470",
   "metadata": {},
   "source": [
    "**Best Attacking Teams**"
   ]
  },
  {
   "cell_type": "code",
   "execution_count": null,
   "id": "65e09ec4-2929-4283-bf0c-6a40a76c2038",
   "metadata": {
    "tags": []
   },
   "outputs": [],
   "source": [
    "# TODO divide home, neutral, away\n",
    "# TODO goals per game instead of total goals\n",
    "home_team_goals = pd.DataFrame(major_tournaments_df.groupby(by=[\"Home Team\"])[\"Home Score\"].sum().reset_index())\n",
    "away_team_goals = pd.DataFrame(major_tournaments_df.groupby(by=[\"Away Team\"])[\"Away Score\"].sum().reset_index())\n",
    "home_team_goals.rename(columns={'Home Team': 'Team'}, inplace=True)\n",
    "away_team_goals.rename(columns={'Away Team': 'Team'}, inplace=True)\n",
    "team_goals = home_team_goals.merge(away_team_goals, how=\"inner\", on=[\"Team\"])\n",
    "team_goals[\"Total Goals\"] = team_goals[\"Home Score\"] + team_goals[\"Away Score\"]\n",
    "team_goals = team_goals.merge(game_counts.reset_index().rename(columns={'index': 'Team'}), how=\"inner\", on=[\"Team\"])\n",
    "team_goals[\"Goals Per Game\"] = team_goals[\"Total Goals\"] / team_goals[\"Total\"]\n",
    "team_goals = team_goals[team_goals[\"Total\"] > 31]\n",
    "team_goals_top10 = team_goals.sort_values(by=\"Goals Per Game\", ascending=False).head(10)"
   ]
  },
  {
   "cell_type": "code",
   "execution_count": null,
   "id": "6ca6c6e9-d006-43db-b127-949d101b718c",
   "metadata": {
    "tags": []
   },
   "outputs": [],
   "source": [
    "plt.figure(figsize=(20,10))\n",
    "ax = sns.barplot(y=team_goals_top10[\"Team\"], x=team_goals_top10[\"Goals Per Game\"], orient='h')\n",
    "ax.set_title(\"Best Attacking Teams\", size=20)\n",
    "ax.set_xlabel(xlabel=\"Goals Per Game\", size=12)\n",
    "ax.set_ylabel(ylabel=\"Team\", size=12)\n",
    "\n",
    "# Annotate value labels to each team\n",
    "i = 0\n",
    "for index, value in team_goals_top10.iterrows(): \n",
    "    plt.annotate(value[\"Goals Per Game\"], xy=(value[\"Goals Per Game\"]-0.2, i), color='white')\n",
    "    i += 1"
   ]
  },
  {
   "cell_type": "code",
   "execution_count": null,
   "id": "2e7ebdba-bcc4-4863-8f22-d5018fdfb06a",
   "metadata": {
    "tags": []
   },
   "outputs": [],
   "source": [
    "# TODO divide home, neutral, away\n",
    "# TODO goals per game instead of total goals\n",
    "home_team_goals = pd.DataFrame(major_tournaments_df.groupby(by=[\"Home Team\"])[\"Away Score\"].sum().reset_index())\n",
    "away_team_goals = pd.DataFrame(major_tournaments_df.groupby(by=[\"Away Team\"])[\"Home Score\"].sum().reset_index())\n",
    "home_team_goals.rename(columns={'Home Team': 'Team'}, inplace=True)\n",
    "away_team_goals.rename(columns={'Away Team': 'Team'}, inplace=True)\n",
    "team_goals = home_team_goals.merge(away_team_goals, how=\"inner\", on=[\"Team\"])\n",
    "team_goals[\"Total Goals\"] = team_goals[\"Home Score\"] + team_goals[\"Away Score\"]\n",
    "team_goals = team_goals.merge(game_counts.reset_index().rename(columns={'index': 'Team'}), how=\"inner\", on=[\"Team\"])\n",
    "team_goals[\"Goals Per Game\"] = team_goals[\"Total Goals\"] / team_goals[\"Total\"]\n",
    "team_goals = team_goals[team_goals[\"Total\"] > 31]\n",
    "team_goals_top10 = team_goals.sort_values(by=\"Goals Per Game\", ascending=True).head(10)"
   ]
  },
  {
   "cell_type": "code",
   "execution_count": null,
   "id": "0ee17d70-1769-4ff1-94c7-8f533f850cca",
   "metadata": {
    "tags": []
   },
   "outputs": [],
   "source": [
    "plt.figure(figsize=(20,10))\n",
    "ax = sns.barplot(y=team_goals_top10[\"Team\"], x=team_goals_top10[\"Goals Per Game\"], orient='h')\n",
    "ax.set_title(\"Best Defending Teams\", size=20)\n",
    "ax.set_xlabel(xlabel=\"Goals Per Game\", size=12)\n",
    "ax.set_ylabel(ylabel=\"Team\", size=12)\n",
    "\n",
    "# Annotate value labels to each team\n",
    "i = 0\n",
    "for index, value in team_goals_top10.iterrows(): \n",
    "    plt.annotate(value[\"Goals Per Game\"], xy=(value[\"Goals Per Game\"]-0.2, i), color='white')\n",
    "    i += 1"
   ]
  },
  {
   "cell_type": "markdown",
   "id": "212148db-98f1-4ac9-ae56-a3dafee05b75",
   "metadata": {},
   "source": [
    "**Which tournaments had the most games?**\n",
    "\n",
    "To answer this, we are excluding friendly matches, qualifiers and tournaments with less than 100 matches."
   ]
  },
  {
   "cell_type": "code",
   "execution_count": null,
   "id": "c6c68a0a-66d3-4da1-af79-0e122bddde3e",
   "metadata": {
    "tags": []
   },
   "outputs": [],
   "source": [
    "tournament_counts = pd.DataFrame(football_df[\"Tournament\"].value_counts().reset_index()) \\\n",
    "    .rename(columns={'index': 'Tournament', 'Tournament': 'Count'})\n",
    "\n",
    "tournament_counts = tournament_counts[(tournament_counts[\"Tournament\"] != \"Friendly\") & \n",
    "                                      (~ tournament_counts[\"Tournament\"].str.endswith('qualification')) & \n",
    "                                      (tournament_counts[\"Count\"] >= 100)]\n",
    "tournament_counts.reset_index(inplace=True)"
   ]
  },
  {
   "cell_type": "code",
   "execution_count": null,
   "id": "433d880b-ebc0-406a-abbe-1bde8cfc0580",
   "metadata": {
    "tags": []
   },
   "outputs": [],
   "source": [
    "plt.figure(figsize=(20,10))\n",
    "ax = sns.barplot(y=tournament_counts[\"Tournament\"], x=tournament_counts[\"Count\"], orient='h')\n",
    "ax.set_title(\"Which tournaments had the most games?\", size=20)\n",
    "ax.set_xlabel(xlabel=\"Matches\", size=12)\n",
    "ax.set_ylabel(ylabel=\"Tournament\", size=12)\n",
    "\n",
    "# Annotate value labels to each team\n",
    "for index, value in tournament_counts.iterrows(): \n",
    "    plt.annotate(value['Count'], xy=(value['Count'] - 20, index + 0.2), color='white')"
   ]
  },
  {
   "cell_type": "markdown",
   "id": "4cf5c8bc-edcb-4f62-ae4c-498799782e4b",
   "metadata": {},
   "source": [
    "We will consider two competitions played between teams from all continents (World Cup and Confederations Cup) and the main competitions of each continent. So, these are the tournaments in the dataset that we will take as the main ones:\n",
    "- FIFA World Cup\n",
    "- Confederations Cup\n",
    "- Copa América\n",
    "- African Cup of Nations\n",
    "- African Nations Championship\t\n",
    "- AFC Asian Cup\n",
    "- Gold Cup\n",
    "- CONCACAF Nations League\n",
    "- UEFA Euro\n",
    "- UEFA Nations League\n",
    "- Oceania Nations Cup\n",
    "\n",
    "Now we are ready to look at the top 10 of the teams that have played the most games in major tournaments.\n",
    "\n",
    "**Which national teams have played the most games in major tournaments?**"
   ]
  },
  {
   "cell_type": "code",
   "execution_count": null,
   "id": "fe074843-8676-49ac-90fc-a079512cd9fb",
   "metadata": {
    "tags": []
   },
   "outputs": [],
   "source": [
    "major_tournaments = ['FIFA World Cup', 'Confederations Cup', 'Copa América', 'African Cup of Nations', \n",
    "                     'African Nations Championship', 'AFC Asian Cup', 'Gold Cup', 'CONCACAF Nations League', \n",
    "                     'UEFA Euro', 'UEFA Nations League', 'Oceania Nations Cup']\n",
    "\n",
    "major_tournaments_df = football_df[football_df[\"Tournament\"].isin(major_tournaments)]"
   ]
  },
  {
   "cell_type": "code",
   "execution_count": null,
   "id": "8bb85ce3-0d2e-4fb8-a77c-ab9c436bae85",
   "metadata": {
    "tags": []
   },
   "outputs": [],
   "source": [
    "home_team_game_counts = major_tournaments_df[major_tournaments_df[\"Neutral\"] == False][\"Home Team\"].value_counts()\n",
    "\n",
    "neutral_team_game_counts = pd.concat([major_tournaments_df[major_tournaments_df[\"Neutral\"] == True][\"Home Team\"].value_counts(),\n",
    "           major_tournaments_df[major_tournaments_df[\"Neutral\"] == True][\"Away Team\"].value_counts()], axis=1)\n",
    "neutral_team_game_counts[\"Neutral\"] = neutral_team_game_counts[\"Home Team\"] + neutral_team_game_counts[\"Away Team\"]\n",
    "\n",
    "away_team_game_counts = major_tournaments_df[major_tournaments_df[\"Neutral\"] == False][\"Away Team\"].value_counts()\n",
    "\n",
    "game_counts = pd.concat([home_team_game_counts, neutral_team_game_counts[\"Neutral\"], away_team_game_counts], axis=1)\n",
    "game_counts[\"Total\"] = game_counts[\"Home Team\"] + game_counts[\"Neutral\"] + game_counts[\"Away Team\"]\n",
    "game_counts_top10 = game_counts.sort_values(by=\"Total\", ascending=False).head(10)"
   ]
  },
  {
   "cell_type": "code",
   "execution_count": null,
   "id": "47bf2ba2-6587-43c6-b09a-55cac5ab52dd",
   "metadata": {
    "tags": []
   },
   "outputs": [],
   "source": [
    "ax = game_counts_top10[[\"Home Team\", \"Neutral\", \"Away Team\"]].plot(kind=\"bar\", stacked=True, figsize=(20,10))\n",
    "ax.set_title(\"Which national teams have played the most games in major tournaments?\", size=20)\n",
    "ax.set_xlabel(xlabel=\"National Team\", size=12)\n",
    "ax.set_ylabel(ylabel=\"Matches\", size=12)\n",
    "ax.set_xticklabels(ax.get_xticklabels(), rotation=20);\n",
    "ax.legend([\"Home\", \"Neutral\", \"Away\"], loc=\"upper right\", title=\"Condition\", fontsize=12);\n",
    "\n",
    "# Annotate value labels to each team\n",
    "i = 0\n",
    "for index, value in game_counts_top10.iterrows(): \n",
    "    plt.annotate(int(value['Total']), xy=(i - 0.07, value['Total'] - 10), color='white')\n",
    "    i += 1"
   ]
  },
  {
   "cell_type": "markdown",
   "id": "a867955f-a82f-4c32-9a1d-3f8555c32c28",
   "metadata": {},
   "source": [
    "It makes sense that teams from **South America (Brazil, Argentina, Uruguay, Chile, Paraguay, Peru and Colombia)** dominate this top 10. Copa América is the second most played tournament among the considered as major. Plus, the top 3 (Brazil, Argentina and Uruguay) add up to nine World Cups,  thirty nine Copa Américas, and five Confederations Cups!\n",
    "\n",
    "Brazil, Colombia and Peru were invited to the Gold Cup. In three editions, Brazil was runner-up twice and third once. Colombia also played three times, reaching the final once and Peru reached the semifinals the only time they played in this competition.\n",
    "\n",
    "**Mexico** is the most powerful team in the CONCACAF region. Mexico has won eleven Gold Cups and one Confederations Cup.\n",
    "\n",
    "**Germany** is the only European team that appears, which is explained by the fact that it is the most successful European team. It has won four World Cups, three Euros and one Confederations Cup. \n",
    "\n",
    "**United States** has won seven Gold Cups and one CONCACAF Nations League (there has been only one edition). The high number of home games for the United States is due to having been the hosts or co-hosts of all editions of the Gold Cup. \n",
    "\n",
    "Mexico and the United States have participated in 10 and 4 editions of the Copa América. Mexico achieved two second places and three third places, while the United States finished fourth twice. This also contributed to the high number of games played by these two nations."
   ]
  },
  {
   "cell_type": "markdown",
   "id": "189de54c-35a7-471a-8c71-4672d09af888",
   "metadata": {
    "execution": {
     "iopub.execute_input": "2022-01-17T21:38:38.651308Z",
     "iopub.status.busy": "2022-01-17T21:38:38.650705Z",
     "iopub.status.idle": "2022-01-17T21:38:38.690095Z",
     "shell.execute_reply": "2022-01-17T21:38:38.687698Z",
     "shell.execute_reply.started": "2022-01-17T21:38:38.651253Z"
    }
   },
   "source": [
    "**Which teams have the best win ratio in major tournaments?**"
   ]
  },
  {
   "cell_type": "code",
   "execution_count": null,
   "id": "4428dd2d-7d42-4334-aaa8-e921aa899b49",
   "metadata": {
    "tags": []
   },
   "outputs": [],
   "source": [
    "win_ratios = pd.concat([major_tournaments_df[\"Winning Team\"].value_counts(), game_counts[\"Total\"]], axis=1)\n",
    "win_ratios[\"Ratio\"] = win_ratios[\"Winning Team\"] / win_ratios[\"Total\"]"
   ]
  },
  {
   "cell_type": "markdown",
   "id": "98d183cf-f2c4-42e0-96cf-a1e46ed9811b",
   "metadata": {},
   "source": [
    "Before plotting, let's look at the statistics of the win_rations to define a threshold at the number of total games. It isn't fair to consider a team with few games the best win ratio, is it?"
   ]
  },
  {
   "cell_type": "code",
   "execution_count": null,
   "id": "94ee8169-932f-4c6e-8092-6f91c301f963",
   "metadata": {},
   "outputs": [],
   "source": [
    "win_ratios.describe()"
   ]
  },
  {
   "cell_type": "markdown",
   "id": "ddb72528-1158-4587-bc33-7dc22bf906b5",
   "metadata": {},
   "source": [
    "25% of the teams have less than 21 games, I think that is a good threshold. "
   ]
  },
  {
   "cell_type": "code",
   "execution_count": null,
   "id": "bcfc045b-25cb-4f66-933a-24deb72bc357",
   "metadata": {
    "tags": []
   },
   "outputs": [],
   "source": [
    "win_ratios = win_ratios[win_ratios[\"Total\"] > 21]\n",
    "win_ratios_top_10  = win_ratios.sort_values(by=\"Ratio\", ascending=False).head(10)\n",
    "\n",
    "plt.figure(figsize=(20,10))\n",
    "ax = sns.barplot(x=win_ratios_top_10[\"Ratio\"], y=win_ratios_top_10.index, orient='h')\n",
    "ax.set_title(\"Which teams have the best win ratio in major tournaments?\", size=20)\n",
    "ax.set_xlabel(xlabel=\"Win Ratio\", size=12)\n",
    "ax.set_ylabel(ylabel=\"National Team\", size=12)\n",
    "ax.set_xlim(right=1)\n",
    "\n",
    "# Annotate value labels to each team\n",
    "i = 0\n",
    "for index, value in win_ratios_top_10.iterrows(): \n",
    "    plt.annotate(float(\"{:.3f}\".format(value['Ratio'])), xy=(value['Ratio']-0.03, i+0.075), color='white')\n",
    "    i += 1"
   ]
  },
  {
   "cell_type": "markdown",
   "id": "a4df9bce-fe2b-4ad6-9353-8becf3a3ec6e",
   "metadata": {},
   "source": [
    "One of the fiercest rivalries in the history of football stands on top: Brazil and Argentina. \n",
    "\n",
    "Note that 5 of the 10 teams are European: Germany, France, Portugal, Netherlands and Italy.\n",
    "\n",
    "United States, Iran and Nigeria aren't the teams with most titles in their regions but they usually go far, which explains the high win ratio."
   ]
  },
  {
   "cell_type": "markdown",
   "id": "e112c8b2-55df-4ec9-bbb3-932481a1b376",
   "metadata": {},
   "source": [
    "**Which are the best teams per decade in major tournaments?**\n",
    "\n",
    "Let's find out the golden eras of the best national teams. "
   ]
  },
  {
   "cell_type": "code",
   "execution_count": null,
   "id": "486ba065-a430-4f95-92d1-a12580343984",
   "metadata": {
    "tags": []
   },
   "outputs": [],
   "source": [
    "win_ratio_per_decade = pd.concat(\n",
    "    [pd.DataFrame(major_tournaments_df.groupby('Decade')['Winning Team'].apply(lambda x: x.value_counts())),\n",
    "     pd.DataFrame(major_tournaments_df.groupby('Decade')['Home Team'].apply(lambda x: x.value_counts())),\n",
    "     pd.DataFrame(major_tournaments_df.groupby('Decade')['Away Team'].apply(lambda x: x.value_counts()))],\n",
    "    axis=1)\n",
    "\n",
    "win_ratio_per_decade[\"Total\"] = win_ratio_per_decade['Home Team'] + win_ratio_per_decade['Away Team']\n",
    "win_ratio_per_decade[\"Ratio\"] = win_ratio_per_decade['Winning Team'] / win_ratio_per_decade[\"Total\"]\n",
    "\n",
    "win_ratio_per_decade = win_ratio_per_decade[win_ratio_per_decade[\"Total\"] > 5]\n",
    "win_ratio_per_decade_top_3 = win_ratio_per_decade.sort_values(by=[\"Decade\", \"Ratio\"], axis=0, na_position=\"first\").groupby(level=0).tail(3)\n",
    "win_ratio_per_decade_top_3 = win_ratio_per_decade_top_3.reset_index()"
   ]
  },
  {
   "cell_type": "code",
   "execution_count": null,
   "id": "2d97b78c-d4d7-49eb-8557-8ee1eccced24",
   "metadata": {
    "tags": []
   },
   "outputs": [],
   "source": [
    "plt.figure(figsize=(20,10))\n",
    "ax = sns.scatterplot(x = 'Decade', y = 'Ratio', hue ='level_1', data=win_ratio_per_decade_top_3, palette=\"tab20\")\n",
    "ax.set_title(\"Which are the best teams per decade in major tournaments?\", size=20)\n",
    "ax.set_xlabel(xlabel=\"Decade\", size=12)\n",
    "ax.set_ylabel(ylabel=\"Win Ratio\", size=12)\n",
    "\n",
    "# Annotate the top 3 national teams\n",
    "for index, row in win_ratio_per_decade_top_3.iterrows():\n",
    "    if row[\"Decade\"] == 2010 and row[\"level_1\"] == \"North Macedonia\":\n",
    "        plt.annotate(row['level_1'], xy=(row['Decade'] - 9, row['Ratio']), fontsize=10)\n",
    "    else:\n",
    "        plt.annotate(row['level_1'], xy=(row['Decade'], row['Ratio']), fontsize=10)"
   ]
  },
  {
   "cell_type": "code",
   "execution_count": null,
   "id": "e756996d-8076-4869-895c-c5a6eefb5d6c",
   "metadata": {
    "tags": []
   },
   "outputs": [],
   "source": [
    "# TODO: Home team games --> as is or (Home Team == Country or Away Team == Country)?"
   ]
  },
  {
   "cell_type": "code",
   "execution_count": null,
   "id": "b5a1f156-fe12-4856-880a-1649a19253de",
   "metadata": {},
   "outputs": [],
   "source": []
  }
 ],
 "metadata": {
  "kernelspec": {
   "display_name": "venv",
   "language": "python",
   "name": "venv"
  },
  "language_info": {
   "codemirror_mode": {
    "name": "ipython",
    "version": 3
   },
   "file_extension": ".py",
   "mimetype": "text/x-python",
   "name": "python",
   "nbconvert_exporter": "python",
   "pygments_lexer": "ipython3",
   "version": "3.9.6"
  }
 },
 "nbformat": 4,
 "nbformat_minor": 5
}
